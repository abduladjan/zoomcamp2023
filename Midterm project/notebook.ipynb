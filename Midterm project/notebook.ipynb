{
 "cells": [
  {
   "cell_type": "code",
   "execution_count": 1,
   "id": "ca156f3e",
   "metadata": {},
   "outputs": [],
   "source": [
    "import pandas as pd\n",
    "import numpy as np\n",
    "from matplotlib import pyplot as plt\n",
    "import seaborn as sns\n",
    "\n",
    "\n",
    "from sklearn.model_selection import train_test_split\n",
    "from sklearn.feature_extraction import DictVectorizer\n",
    "from sklearn.linear_model import LogisticRegression\n",
    "from sklearn.tree import DecisionTreeClassifier\n",
    "from sklearn.tree import export_text\n",
    "from sklearn.ensemble import RandomForestClassifier\n",
    "from sklearn.metrics import mean_squared_error\n",
    "from sklearn.metrics import roc_auc_score\n",
    "from sklearn.metrics import mutual_info_score\n",
    "\n",
    "from tqdm.notebook import tqdm\n",
    "\n",
    "%matplotlib inline"
   ]
  },
  {
   "cell_type": "code",
   "execution_count": 2,
   "id": "87eef692",
   "metadata": {},
   "outputs": [],
   "source": [
    "np.random.seed(123)"
   ]
  },
  {
   "cell_type": "code",
   "execution_count": 3,
   "id": "3cac370a",
   "metadata": {},
   "outputs": [],
   "source": [
    "df = pd.read_csv('weatherAUS.csv')"
   ]
  },
  {
   "cell_type": "code",
   "execution_count": 4,
   "id": "0ee706b2",
   "metadata": {},
   "outputs": [],
   "source": [
    "df.columns = df.columns.str.lower()"
   ]
  },
  {
   "cell_type": "code",
   "execution_count": 5,
   "id": "3e522643",
   "metadata": {},
   "outputs": [
    {
     "data": {
      "text/html": [
       "<div>\n",
       "<style scoped>\n",
       "    .dataframe tbody tr th:only-of-type {\n",
       "        vertical-align: middle;\n",
       "    }\n",
       "\n",
       "    .dataframe tbody tr th {\n",
       "        vertical-align: top;\n",
       "    }\n",
       "\n",
       "    .dataframe thead th {\n",
       "        text-align: right;\n",
       "    }\n",
       "</style>\n",
       "<table border=\"1\" class=\"dataframe\">\n",
       "  <thead>\n",
       "    <tr style=\"text-align: right;\">\n",
       "      <th></th>\n",
       "      <th>date</th>\n",
       "      <th>location</th>\n",
       "      <th>mintemp</th>\n",
       "      <th>maxtemp</th>\n",
       "      <th>rainfall</th>\n",
       "      <th>evaporation</th>\n",
       "      <th>sunshine</th>\n",
       "      <th>windgustdir</th>\n",
       "      <th>windgustspeed</th>\n",
       "      <th>winddir9am</th>\n",
       "      <th>...</th>\n",
       "      <th>humidity9am</th>\n",
       "      <th>humidity3pm</th>\n",
       "      <th>pressure9am</th>\n",
       "      <th>pressure3pm</th>\n",
       "      <th>cloud9am</th>\n",
       "      <th>cloud3pm</th>\n",
       "      <th>temp9am</th>\n",
       "      <th>temp3pm</th>\n",
       "      <th>raintoday</th>\n",
       "      <th>raintomorrow</th>\n",
       "    </tr>\n",
       "  </thead>\n",
       "  <tbody>\n",
       "    <tr>\n",
       "      <th>0</th>\n",
       "      <td>2008-12-01</td>\n",
       "      <td>Albury</td>\n",
       "      <td>13.4</td>\n",
       "      <td>22.9</td>\n",
       "      <td>0.6</td>\n",
       "      <td>NaN</td>\n",
       "      <td>NaN</td>\n",
       "      <td>W</td>\n",
       "      <td>44.0</td>\n",
       "      <td>W</td>\n",
       "      <td>...</td>\n",
       "      <td>71.0</td>\n",
       "      <td>22.0</td>\n",
       "      <td>1007.7</td>\n",
       "      <td>1007.1</td>\n",
       "      <td>8.0</td>\n",
       "      <td>NaN</td>\n",
       "      <td>16.9</td>\n",
       "      <td>21.8</td>\n",
       "      <td>No</td>\n",
       "      <td>No</td>\n",
       "    </tr>\n",
       "    <tr>\n",
       "      <th>1</th>\n",
       "      <td>2008-12-02</td>\n",
       "      <td>Albury</td>\n",
       "      <td>7.4</td>\n",
       "      <td>25.1</td>\n",
       "      <td>0.0</td>\n",
       "      <td>NaN</td>\n",
       "      <td>NaN</td>\n",
       "      <td>WNW</td>\n",
       "      <td>44.0</td>\n",
       "      <td>NNW</td>\n",
       "      <td>...</td>\n",
       "      <td>44.0</td>\n",
       "      <td>25.0</td>\n",
       "      <td>1010.6</td>\n",
       "      <td>1007.8</td>\n",
       "      <td>NaN</td>\n",
       "      <td>NaN</td>\n",
       "      <td>17.2</td>\n",
       "      <td>24.3</td>\n",
       "      <td>No</td>\n",
       "      <td>No</td>\n",
       "    </tr>\n",
       "    <tr>\n",
       "      <th>2</th>\n",
       "      <td>2008-12-03</td>\n",
       "      <td>Albury</td>\n",
       "      <td>12.9</td>\n",
       "      <td>25.7</td>\n",
       "      <td>0.0</td>\n",
       "      <td>NaN</td>\n",
       "      <td>NaN</td>\n",
       "      <td>WSW</td>\n",
       "      <td>46.0</td>\n",
       "      <td>W</td>\n",
       "      <td>...</td>\n",
       "      <td>38.0</td>\n",
       "      <td>30.0</td>\n",
       "      <td>1007.6</td>\n",
       "      <td>1008.7</td>\n",
       "      <td>NaN</td>\n",
       "      <td>2.0</td>\n",
       "      <td>21.0</td>\n",
       "      <td>23.2</td>\n",
       "      <td>No</td>\n",
       "      <td>No</td>\n",
       "    </tr>\n",
       "    <tr>\n",
       "      <th>3</th>\n",
       "      <td>2008-12-04</td>\n",
       "      <td>Albury</td>\n",
       "      <td>9.2</td>\n",
       "      <td>28.0</td>\n",
       "      <td>0.0</td>\n",
       "      <td>NaN</td>\n",
       "      <td>NaN</td>\n",
       "      <td>NE</td>\n",
       "      <td>24.0</td>\n",
       "      <td>SE</td>\n",
       "      <td>...</td>\n",
       "      <td>45.0</td>\n",
       "      <td>16.0</td>\n",
       "      <td>1017.6</td>\n",
       "      <td>1012.8</td>\n",
       "      <td>NaN</td>\n",
       "      <td>NaN</td>\n",
       "      <td>18.1</td>\n",
       "      <td>26.5</td>\n",
       "      <td>No</td>\n",
       "      <td>No</td>\n",
       "    </tr>\n",
       "    <tr>\n",
       "      <th>4</th>\n",
       "      <td>2008-12-05</td>\n",
       "      <td>Albury</td>\n",
       "      <td>17.5</td>\n",
       "      <td>32.3</td>\n",
       "      <td>1.0</td>\n",
       "      <td>NaN</td>\n",
       "      <td>NaN</td>\n",
       "      <td>W</td>\n",
       "      <td>41.0</td>\n",
       "      <td>ENE</td>\n",
       "      <td>...</td>\n",
       "      <td>82.0</td>\n",
       "      <td>33.0</td>\n",
       "      <td>1010.8</td>\n",
       "      <td>1006.0</td>\n",
       "      <td>7.0</td>\n",
       "      <td>8.0</td>\n",
       "      <td>17.8</td>\n",
       "      <td>29.7</td>\n",
       "      <td>No</td>\n",
       "      <td>No</td>\n",
       "    </tr>\n",
       "    <tr>\n",
       "      <th>5</th>\n",
       "      <td>2008-12-06</td>\n",
       "      <td>Albury</td>\n",
       "      <td>14.6</td>\n",
       "      <td>29.7</td>\n",
       "      <td>0.2</td>\n",
       "      <td>NaN</td>\n",
       "      <td>NaN</td>\n",
       "      <td>WNW</td>\n",
       "      <td>56.0</td>\n",
       "      <td>W</td>\n",
       "      <td>...</td>\n",
       "      <td>55.0</td>\n",
       "      <td>23.0</td>\n",
       "      <td>1009.2</td>\n",
       "      <td>1005.4</td>\n",
       "      <td>NaN</td>\n",
       "      <td>NaN</td>\n",
       "      <td>20.6</td>\n",
       "      <td>28.9</td>\n",
       "      <td>No</td>\n",
       "      <td>No</td>\n",
       "    </tr>\n",
       "    <tr>\n",
       "      <th>6</th>\n",
       "      <td>2008-12-07</td>\n",
       "      <td>Albury</td>\n",
       "      <td>14.3</td>\n",
       "      <td>25.0</td>\n",
       "      <td>0.0</td>\n",
       "      <td>NaN</td>\n",
       "      <td>NaN</td>\n",
       "      <td>W</td>\n",
       "      <td>50.0</td>\n",
       "      <td>SW</td>\n",
       "      <td>...</td>\n",
       "      <td>49.0</td>\n",
       "      <td>19.0</td>\n",
       "      <td>1009.6</td>\n",
       "      <td>1008.2</td>\n",
       "      <td>1.0</td>\n",
       "      <td>NaN</td>\n",
       "      <td>18.1</td>\n",
       "      <td>24.6</td>\n",
       "      <td>No</td>\n",
       "      <td>No</td>\n",
       "    </tr>\n",
       "    <tr>\n",
       "      <th>7</th>\n",
       "      <td>2008-12-08</td>\n",
       "      <td>Albury</td>\n",
       "      <td>7.7</td>\n",
       "      <td>26.7</td>\n",
       "      <td>0.0</td>\n",
       "      <td>NaN</td>\n",
       "      <td>NaN</td>\n",
       "      <td>W</td>\n",
       "      <td>35.0</td>\n",
       "      <td>SSE</td>\n",
       "      <td>...</td>\n",
       "      <td>48.0</td>\n",
       "      <td>19.0</td>\n",
       "      <td>1013.4</td>\n",
       "      <td>1010.1</td>\n",
       "      <td>NaN</td>\n",
       "      <td>NaN</td>\n",
       "      <td>16.3</td>\n",
       "      <td>25.5</td>\n",
       "      <td>No</td>\n",
       "      <td>No</td>\n",
       "    </tr>\n",
       "    <tr>\n",
       "      <th>8</th>\n",
       "      <td>2008-12-09</td>\n",
       "      <td>Albury</td>\n",
       "      <td>9.7</td>\n",
       "      <td>31.9</td>\n",
       "      <td>0.0</td>\n",
       "      <td>NaN</td>\n",
       "      <td>NaN</td>\n",
       "      <td>NNW</td>\n",
       "      <td>80.0</td>\n",
       "      <td>SE</td>\n",
       "      <td>...</td>\n",
       "      <td>42.0</td>\n",
       "      <td>9.0</td>\n",
       "      <td>1008.9</td>\n",
       "      <td>1003.6</td>\n",
       "      <td>NaN</td>\n",
       "      <td>NaN</td>\n",
       "      <td>18.3</td>\n",
       "      <td>30.2</td>\n",
       "      <td>No</td>\n",
       "      <td>Yes</td>\n",
       "    </tr>\n",
       "    <tr>\n",
       "      <th>9</th>\n",
       "      <td>2008-12-10</td>\n",
       "      <td>Albury</td>\n",
       "      <td>13.1</td>\n",
       "      <td>30.1</td>\n",
       "      <td>1.4</td>\n",
       "      <td>NaN</td>\n",
       "      <td>NaN</td>\n",
       "      <td>W</td>\n",
       "      <td>28.0</td>\n",
       "      <td>S</td>\n",
       "      <td>...</td>\n",
       "      <td>58.0</td>\n",
       "      <td>27.0</td>\n",
       "      <td>1007.0</td>\n",
       "      <td>1005.7</td>\n",
       "      <td>NaN</td>\n",
       "      <td>NaN</td>\n",
       "      <td>20.1</td>\n",
       "      <td>28.2</td>\n",
       "      <td>Yes</td>\n",
       "      <td>No</td>\n",
       "    </tr>\n",
       "  </tbody>\n",
       "</table>\n",
       "<p>10 rows × 23 columns</p>\n",
       "</div>"
      ],
      "text/plain": [
       "         date location  mintemp  maxtemp  rainfall  evaporation  sunshine  \\\n",
       "0  2008-12-01   Albury     13.4     22.9       0.6          NaN       NaN   \n",
       "1  2008-12-02   Albury      7.4     25.1       0.0          NaN       NaN   \n",
       "2  2008-12-03   Albury     12.9     25.7       0.0          NaN       NaN   \n",
       "3  2008-12-04   Albury      9.2     28.0       0.0          NaN       NaN   \n",
       "4  2008-12-05   Albury     17.5     32.3       1.0          NaN       NaN   \n",
       "5  2008-12-06   Albury     14.6     29.7       0.2          NaN       NaN   \n",
       "6  2008-12-07   Albury     14.3     25.0       0.0          NaN       NaN   \n",
       "7  2008-12-08   Albury      7.7     26.7       0.0          NaN       NaN   \n",
       "8  2008-12-09   Albury      9.7     31.9       0.0          NaN       NaN   \n",
       "9  2008-12-10   Albury     13.1     30.1       1.4          NaN       NaN   \n",
       "\n",
       "  windgustdir  windgustspeed winddir9am  ... humidity9am  humidity3pm  \\\n",
       "0           W           44.0          W  ...        71.0         22.0   \n",
       "1         WNW           44.0        NNW  ...        44.0         25.0   \n",
       "2         WSW           46.0          W  ...        38.0         30.0   \n",
       "3          NE           24.0         SE  ...        45.0         16.0   \n",
       "4           W           41.0        ENE  ...        82.0         33.0   \n",
       "5         WNW           56.0          W  ...        55.0         23.0   \n",
       "6           W           50.0         SW  ...        49.0         19.0   \n",
       "7           W           35.0        SSE  ...        48.0         19.0   \n",
       "8         NNW           80.0         SE  ...        42.0          9.0   \n",
       "9           W           28.0          S  ...        58.0         27.0   \n",
       "\n",
       "   pressure9am  pressure3pm  cloud9am  cloud3pm  temp9am  temp3pm  raintoday  \\\n",
       "0       1007.7       1007.1       8.0       NaN     16.9     21.8         No   \n",
       "1       1010.6       1007.8       NaN       NaN     17.2     24.3         No   \n",
       "2       1007.6       1008.7       NaN       2.0     21.0     23.2         No   \n",
       "3       1017.6       1012.8       NaN       NaN     18.1     26.5         No   \n",
       "4       1010.8       1006.0       7.0       8.0     17.8     29.7         No   \n",
       "5       1009.2       1005.4       NaN       NaN     20.6     28.9         No   \n",
       "6       1009.6       1008.2       1.0       NaN     18.1     24.6         No   \n",
       "7       1013.4       1010.1       NaN       NaN     16.3     25.5         No   \n",
       "8       1008.9       1003.6       NaN       NaN     18.3     30.2         No   \n",
       "9       1007.0       1005.7       NaN       NaN     20.1     28.2        Yes   \n",
       "\n",
       "   raintomorrow  \n",
       "0            No  \n",
       "1            No  \n",
       "2            No  \n",
       "3            No  \n",
       "4            No  \n",
       "5            No  \n",
       "6            No  \n",
       "7            No  \n",
       "8           Yes  \n",
       "9            No  \n",
       "\n",
       "[10 rows x 23 columns]"
      ]
     },
     "execution_count": 5,
     "metadata": {},
     "output_type": "execute_result"
    }
   ],
   "source": [
    "df.head(10)"
   ]
  },
  {
   "cell_type": "code",
   "execution_count": 6,
   "id": "5c614805",
   "metadata": {},
   "outputs": [
    {
     "name": "stdout",
     "output_type": "stream",
     "text": [
      "<class 'pandas.core.frame.DataFrame'>\n",
      "RangeIndex: 145460 entries, 0 to 145459\n",
      "Data columns (total 23 columns):\n",
      " #   Column         Non-Null Count   Dtype  \n",
      "---  ------         --------------   -----  \n",
      " 0   date           145460 non-null  object \n",
      " 1   location       145460 non-null  object \n",
      " 2   mintemp        143975 non-null  float64\n",
      " 3   maxtemp        144199 non-null  float64\n",
      " 4   rainfall       142199 non-null  float64\n",
      " 5   evaporation    82670 non-null   float64\n",
      " 6   sunshine       75625 non-null   float64\n",
      " 7   windgustdir    135134 non-null  object \n",
      " 8   windgustspeed  135197 non-null  float64\n",
      " 9   winddir9am     134894 non-null  object \n",
      " 10  winddir3pm     141232 non-null  object \n",
      " 11  windspeed9am   143693 non-null  float64\n",
      " 12  windspeed3pm   142398 non-null  float64\n",
      " 13  humidity9am    142806 non-null  float64\n",
      " 14  humidity3pm    140953 non-null  float64\n",
      " 15  pressure9am    130395 non-null  float64\n",
      " 16  pressure3pm    130432 non-null  float64\n",
      " 17  cloud9am       89572 non-null   float64\n",
      " 18  cloud3pm       86102 non-null   float64\n",
      " 19  temp9am        143693 non-null  float64\n",
      " 20  temp3pm        141851 non-null  float64\n",
      " 21  raintoday      142199 non-null  object \n",
      " 22  raintomorrow   142193 non-null  object \n",
      "dtypes: float64(16), object(7)\n",
      "memory usage: 25.5+ MB\n"
     ]
    }
   ],
   "source": [
    "df.info()"
   ]
  },
  {
   "cell_type": "code",
   "execution_count": 7,
   "id": "497558f1",
   "metadata": {},
   "outputs": [
    {
     "data": {
      "text/html": [
       "<div>\n",
       "<style scoped>\n",
       "    .dataframe tbody tr th:only-of-type {\n",
       "        vertical-align: middle;\n",
       "    }\n",
       "\n",
       "    .dataframe tbody tr th {\n",
       "        vertical-align: top;\n",
       "    }\n",
       "\n",
       "    .dataframe thead th {\n",
       "        text-align: right;\n",
       "    }\n",
       "</style>\n",
       "<table border=\"1\" class=\"dataframe\">\n",
       "  <thead>\n",
       "    <tr style=\"text-align: right;\">\n",
       "      <th></th>\n",
       "      <th>count</th>\n",
       "      <th>mean</th>\n",
       "      <th>std</th>\n",
       "      <th>min</th>\n",
       "      <th>25%</th>\n",
       "      <th>50%</th>\n",
       "      <th>75%</th>\n",
       "      <th>max</th>\n",
       "    </tr>\n",
       "  </thead>\n",
       "  <tbody>\n",
       "    <tr>\n",
       "      <th>mintemp</th>\n",
       "      <td>143975.0</td>\n",
       "      <td>12.194034</td>\n",
       "      <td>6.398495</td>\n",
       "      <td>-8.5</td>\n",
       "      <td>7.6</td>\n",
       "      <td>12.0</td>\n",
       "      <td>16.9</td>\n",
       "      <td>33.9</td>\n",
       "    </tr>\n",
       "    <tr>\n",
       "      <th>maxtemp</th>\n",
       "      <td>144199.0</td>\n",
       "      <td>23.221348</td>\n",
       "      <td>7.119049</td>\n",
       "      <td>-4.8</td>\n",
       "      <td>17.9</td>\n",
       "      <td>22.6</td>\n",
       "      <td>28.2</td>\n",
       "      <td>48.1</td>\n",
       "    </tr>\n",
       "    <tr>\n",
       "      <th>rainfall</th>\n",
       "      <td>142199.0</td>\n",
       "      <td>2.360918</td>\n",
       "      <td>8.478060</td>\n",
       "      <td>0.0</td>\n",
       "      <td>0.0</td>\n",
       "      <td>0.0</td>\n",
       "      <td>0.8</td>\n",
       "      <td>371.0</td>\n",
       "    </tr>\n",
       "    <tr>\n",
       "      <th>evaporation</th>\n",
       "      <td>82670.0</td>\n",
       "      <td>5.468232</td>\n",
       "      <td>4.193704</td>\n",
       "      <td>0.0</td>\n",
       "      <td>2.6</td>\n",
       "      <td>4.8</td>\n",
       "      <td>7.4</td>\n",
       "      <td>145.0</td>\n",
       "    </tr>\n",
       "    <tr>\n",
       "      <th>sunshine</th>\n",
       "      <td>75625.0</td>\n",
       "      <td>7.611178</td>\n",
       "      <td>3.785483</td>\n",
       "      <td>0.0</td>\n",
       "      <td>4.8</td>\n",
       "      <td>8.4</td>\n",
       "      <td>10.6</td>\n",
       "      <td>14.5</td>\n",
       "    </tr>\n",
       "    <tr>\n",
       "      <th>windgustspeed</th>\n",
       "      <td>135197.0</td>\n",
       "      <td>40.035230</td>\n",
       "      <td>13.607062</td>\n",
       "      <td>6.0</td>\n",
       "      <td>31.0</td>\n",
       "      <td>39.0</td>\n",
       "      <td>48.0</td>\n",
       "      <td>135.0</td>\n",
       "    </tr>\n",
       "    <tr>\n",
       "      <th>windspeed9am</th>\n",
       "      <td>143693.0</td>\n",
       "      <td>14.043426</td>\n",
       "      <td>8.915375</td>\n",
       "      <td>0.0</td>\n",
       "      <td>7.0</td>\n",
       "      <td>13.0</td>\n",
       "      <td>19.0</td>\n",
       "      <td>130.0</td>\n",
       "    </tr>\n",
       "    <tr>\n",
       "      <th>windspeed3pm</th>\n",
       "      <td>142398.0</td>\n",
       "      <td>18.662657</td>\n",
       "      <td>8.809800</td>\n",
       "      <td>0.0</td>\n",
       "      <td>13.0</td>\n",
       "      <td>19.0</td>\n",
       "      <td>24.0</td>\n",
       "      <td>87.0</td>\n",
       "    </tr>\n",
       "    <tr>\n",
       "      <th>humidity9am</th>\n",
       "      <td>142806.0</td>\n",
       "      <td>68.880831</td>\n",
       "      <td>19.029164</td>\n",
       "      <td>0.0</td>\n",
       "      <td>57.0</td>\n",
       "      <td>70.0</td>\n",
       "      <td>83.0</td>\n",
       "      <td>100.0</td>\n",
       "    </tr>\n",
       "    <tr>\n",
       "      <th>humidity3pm</th>\n",
       "      <td>140953.0</td>\n",
       "      <td>51.539116</td>\n",
       "      <td>20.795902</td>\n",
       "      <td>0.0</td>\n",
       "      <td>37.0</td>\n",
       "      <td>52.0</td>\n",
       "      <td>66.0</td>\n",
       "      <td>100.0</td>\n",
       "    </tr>\n",
       "    <tr>\n",
       "      <th>pressure9am</th>\n",
       "      <td>130395.0</td>\n",
       "      <td>1017.649940</td>\n",
       "      <td>7.106530</td>\n",
       "      <td>980.5</td>\n",
       "      <td>1012.9</td>\n",
       "      <td>1017.6</td>\n",
       "      <td>1022.4</td>\n",
       "      <td>1041.0</td>\n",
       "    </tr>\n",
       "    <tr>\n",
       "      <th>pressure3pm</th>\n",
       "      <td>130432.0</td>\n",
       "      <td>1015.255889</td>\n",
       "      <td>7.037414</td>\n",
       "      <td>977.1</td>\n",
       "      <td>1010.4</td>\n",
       "      <td>1015.2</td>\n",
       "      <td>1020.0</td>\n",
       "      <td>1039.6</td>\n",
       "    </tr>\n",
       "    <tr>\n",
       "      <th>cloud9am</th>\n",
       "      <td>89572.0</td>\n",
       "      <td>4.447461</td>\n",
       "      <td>2.887159</td>\n",
       "      <td>0.0</td>\n",
       "      <td>1.0</td>\n",
       "      <td>5.0</td>\n",
       "      <td>7.0</td>\n",
       "      <td>9.0</td>\n",
       "    </tr>\n",
       "    <tr>\n",
       "      <th>cloud3pm</th>\n",
       "      <td>86102.0</td>\n",
       "      <td>4.509930</td>\n",
       "      <td>2.720357</td>\n",
       "      <td>0.0</td>\n",
       "      <td>2.0</td>\n",
       "      <td>5.0</td>\n",
       "      <td>7.0</td>\n",
       "      <td>9.0</td>\n",
       "    </tr>\n",
       "    <tr>\n",
       "      <th>temp9am</th>\n",
       "      <td>143693.0</td>\n",
       "      <td>16.990631</td>\n",
       "      <td>6.488753</td>\n",
       "      <td>-7.2</td>\n",
       "      <td>12.3</td>\n",
       "      <td>16.7</td>\n",
       "      <td>21.6</td>\n",
       "      <td>40.2</td>\n",
       "    </tr>\n",
       "    <tr>\n",
       "      <th>temp3pm</th>\n",
       "      <td>141851.0</td>\n",
       "      <td>21.683390</td>\n",
       "      <td>6.936650</td>\n",
       "      <td>-5.4</td>\n",
       "      <td>16.6</td>\n",
       "      <td>21.1</td>\n",
       "      <td>26.4</td>\n",
       "      <td>46.7</td>\n",
       "    </tr>\n",
       "  </tbody>\n",
       "</table>\n",
       "</div>"
      ],
      "text/plain": [
       "                  count         mean        std    min     25%     50%  \\\n",
       "mintemp        143975.0    12.194034   6.398495   -8.5     7.6    12.0   \n",
       "maxtemp        144199.0    23.221348   7.119049   -4.8    17.9    22.6   \n",
       "rainfall       142199.0     2.360918   8.478060    0.0     0.0     0.0   \n",
       "evaporation     82670.0     5.468232   4.193704    0.0     2.6     4.8   \n",
       "sunshine        75625.0     7.611178   3.785483    0.0     4.8     8.4   \n",
       "windgustspeed  135197.0    40.035230  13.607062    6.0    31.0    39.0   \n",
       "windspeed9am   143693.0    14.043426   8.915375    0.0     7.0    13.0   \n",
       "windspeed3pm   142398.0    18.662657   8.809800    0.0    13.0    19.0   \n",
       "humidity9am    142806.0    68.880831  19.029164    0.0    57.0    70.0   \n",
       "humidity3pm    140953.0    51.539116  20.795902    0.0    37.0    52.0   \n",
       "pressure9am    130395.0  1017.649940   7.106530  980.5  1012.9  1017.6   \n",
       "pressure3pm    130432.0  1015.255889   7.037414  977.1  1010.4  1015.2   \n",
       "cloud9am        89572.0     4.447461   2.887159    0.0     1.0     5.0   \n",
       "cloud3pm        86102.0     4.509930   2.720357    0.0     2.0     5.0   \n",
       "temp9am        143693.0    16.990631   6.488753   -7.2    12.3    16.7   \n",
       "temp3pm        141851.0    21.683390   6.936650   -5.4    16.6    21.1   \n",
       "\n",
       "                  75%     max  \n",
       "mintemp          16.9    33.9  \n",
       "maxtemp          28.2    48.1  \n",
       "rainfall          0.8   371.0  \n",
       "evaporation       7.4   145.0  \n",
       "sunshine         10.6    14.5  \n",
       "windgustspeed    48.0   135.0  \n",
       "windspeed9am     19.0   130.0  \n",
       "windspeed3pm     24.0    87.0  \n",
       "humidity9am      83.0   100.0  \n",
       "humidity3pm      66.0   100.0  \n",
       "pressure9am    1022.4  1041.0  \n",
       "pressure3pm    1020.0  1039.6  \n",
       "cloud9am          7.0     9.0  \n",
       "cloud3pm          7.0     9.0  \n",
       "temp9am          21.6    40.2  \n",
       "temp3pm          26.4    46.7  "
      ]
     },
     "execution_count": 7,
     "metadata": {},
     "output_type": "execute_result"
    }
   ],
   "source": [
    "df.describe().transpose()"
   ]
  },
  {
   "cell_type": "code",
   "execution_count": 8,
   "id": "9eae7c73",
   "metadata": {},
   "outputs": [
    {
     "name": "stdout",
     "output_type": "stream",
     "text": [
      "column date contains 3436 unique values\n",
      "column location contains 49 unique values\n",
      "column mintemp contains 389 unique values\n",
      "column maxtemp contains 505 unique values\n",
      "column rainfall contains 681 unique values\n",
      "column evaporation contains 358 unique values\n",
      "column sunshine contains 145 unique values\n",
      "column windgustdir contains 16 unique values\n",
      "column windgustspeed contains 67 unique values\n",
      "column winddir9am contains 16 unique values\n",
      "column winddir3pm contains 16 unique values\n",
      "column windspeed9am contains 43 unique values\n",
      "column windspeed3pm contains 44 unique values\n",
      "column humidity9am contains 101 unique values\n",
      "column humidity3pm contains 101 unique values\n",
      "column pressure9am contains 546 unique values\n",
      "column pressure3pm contains 549 unique values\n",
      "column cloud9am contains 10 unique values\n",
      "column cloud3pm contains 10 unique values\n",
      "column temp9am contains 441 unique values\n",
      "column temp3pm contains 502 unique values\n",
      "column raintoday contains 2 unique values\n",
      "column raintomorrow contains 2 unique values\n"
     ]
    }
   ],
   "source": [
    "for column in df.columns:\n",
    "    print('column', column, 'contains', df[column].nunique(), 'unique values')"
   ]
  },
  {
   "cell_type": "code",
   "execution_count": 9,
   "id": "ccc8ce2d",
   "metadata": {},
   "outputs": [
    {
     "name": "stdout",
     "output_type": "stream",
     "text": [
      "column date contains 0 null values\n",
      "column location contains 0 null values\n",
      "column mintemp contains 1485 null values\n",
      "column maxtemp contains 1261 null values\n",
      "column rainfall contains 3261 null values\n",
      "column evaporation contains 62790 null values\n",
      "column sunshine contains 69835 null values\n",
      "column windgustdir contains 10326 null values\n",
      "column windgustspeed contains 10263 null values\n",
      "column winddir9am contains 10566 null values\n",
      "column winddir3pm contains 4228 null values\n",
      "column windspeed9am contains 1767 null values\n",
      "column windspeed3pm contains 3062 null values\n",
      "column humidity9am contains 2654 null values\n",
      "column humidity3pm contains 4507 null values\n",
      "column pressure9am contains 15065 null values\n",
      "column pressure3pm contains 15028 null values\n",
      "column cloud9am contains 55888 null values\n",
      "column cloud3pm contains 59358 null values\n",
      "column temp9am contains 1767 null values\n",
      "column temp3pm contains 3609 null values\n",
      "column raintoday contains 3261 null values\n",
      "column raintomorrow contains 3267 null values\n"
     ]
    }
   ],
   "source": [
    "for column in df.columns:\n",
    "    print('column', column, 'contains', df[column].isnull().sum(), 'null values')"
   ]
  },
  {
   "cell_type": "code",
   "execution_count": 10,
   "id": "aea09bca",
   "metadata": {},
   "outputs": [],
   "source": [
    "#Drop evaporation, sunshine, cloud9am, cloud3pm columns due to big amount of NAs\n",
    "\n",
    "df.drop(columns=['evaporation', 'sunshine', 'cloud9am', 'cloud3pm'], inplace=True)"
   ]
  },
  {
   "cell_type": "code",
   "execution_count": 11,
   "id": "50732a46",
   "metadata": {},
   "outputs": [],
   "source": [
    "#Splitting Date column on year, month, and day\n",
    "\n",
    "split = df.date.str.split('-', n=-1, expand=True)\n",
    "\n",
    "df['year'] = split[0]\n",
    "df['month'] = split[1]\n",
    "df['day'] = split[2]\n",
    "\n",
    "df.drop(columns=['date'], inplace=True)"
   ]
  },
  {
   "cell_type": "code",
   "execution_count": 12,
   "id": "75a291e2",
   "metadata": {},
   "outputs": [],
   "source": [
    "df = df.astype({'year': 'int32', 'month': 'int32', 'day': 'int32'})"
   ]
  },
  {
   "cell_type": "code",
   "execution_count": 13,
   "id": "93d75470",
   "metadata": {},
   "outputs": [],
   "source": [
    "#Getting numeric columns\n",
    "\n",
    "numeric = []\n",
    "for column in df.columns:\n",
    "    if df[column].dtype == np.float64:\n",
    "        numeric.append(column)"
   ]
  },
  {
   "cell_type": "code",
   "execution_count": 14,
   "id": "099baa31",
   "metadata": {},
   "outputs": [],
   "source": [
    "#Getting categorical columns\n",
    "\n",
    "categorical = []\n",
    "for i in  df.columns:\n",
    "    if i not in numeric:\n",
    "        if i != 'raintomorrow':\n",
    "            categorical.append(i)"
   ]
  },
  {
   "cell_type": "code",
   "execution_count": 15,
   "id": "fafe04e9",
   "metadata": {},
   "outputs": [],
   "source": [
    "df.raintomorrow = (df.raintomorrow == 'Yes').astype(int)"
   ]
  },
  {
   "cell_type": "code",
   "execution_count": 16,
   "id": "787d56b4",
   "metadata": {},
   "outputs": [],
   "source": [
    "#Drop NA values in target column \n",
    "\n",
    "df.dropna(subset=['raintomorrow'], inplace=True)\n",
    "df.reset_index(inplace=True, drop=True)"
   ]
  },
  {
   "cell_type": "code",
   "execution_count": 17,
   "id": "d4bb2dcd",
   "metadata": {},
   "outputs": [],
   "source": [
    "#Filling NA with propagating last valid observation forward to next valid\n",
    "\n",
    "df = df.fillna(method='ffill')"
   ]
  },
  {
   "cell_type": "code",
   "execution_count": 18,
   "id": "496a6d3c",
   "metadata": {},
   "outputs": [
    {
     "data": {
      "text/plain": [
       "mintemp          0.080292\n",
       "maxtemp          0.156547\n",
       "rainfall         0.231743\n",
       "windgustspeed    0.209280\n",
       "windspeed9am     0.085979\n",
       "windspeed3pm     0.083859\n",
       "humidity9am      0.247570\n",
       "humidity3pm      0.425805\n",
       "pressure9am      0.227416\n",
       "pressure3pm      0.210892\n",
       "temp9am          0.027840\n",
       "temp3pm          0.187808\n",
       "dtype: float64"
      ]
     },
     "execution_count": 18,
     "metadata": {},
     "output_type": "execute_result"
    }
   ],
   "source": [
    "df[numeric].corrwith(df.raintomorrow).abs()"
   ]
  },
  {
   "cell_type": "code",
   "execution_count": 19,
   "id": "434d54e7",
   "metadata": {},
   "outputs": [],
   "source": [
    "def mutual_info_churn_score(series):\n",
    "    return mutual_info_score(series, df.raintomorrow)"
   ]
  },
  {
   "cell_type": "code",
   "execution_count": 20,
   "id": "a4a2a35a",
   "metadata": {},
   "outputs": [
    {
     "data": {
      "text/plain": [
       "location       0.012669\n",
       "windgustdir    0.005392\n",
       "winddir9am     0.006995\n",
       "winddir3pm     0.004054\n",
       "raintoday      0.041524\n",
       "year           0.000669\n",
       "month          0.001586\n",
       "day            0.000301\n",
       "dtype: float64"
      ]
     },
     "execution_count": 20,
     "metadata": {},
     "output_type": "execute_result"
    }
   ],
   "source": [
    "mi = df[categorical].apply(mutual_info_churn_score)\n",
    "mi"
   ]
  },
  {
   "cell_type": "code",
   "execution_count": 21,
   "id": "22bb6f02",
   "metadata": {},
   "outputs": [
    {
     "data": {
      "text/plain": [
       "Text(0.5, 1.0, 'Rain tomorrow by month')"
      ]
     },
     "execution_count": 21,
     "metadata": {},
     "output_type": "execute_result"
    },
    {
     "data": {
      "image/png": "[encoded data removed]",
      "text/plain": [
       "<Figure size 1600x600 with 3 Axes>"
      ]
     },
     "metadata": {},
     "output_type": "display_data"
    }
   ],
   "source": [
    "temp_raintomorrow = df.groupby(by=['month', 'raintomorrow']).size()\n",
    "rain_tomorrow_month = []\n",
    "for i in temp_raintomorrow.index.levels[0]:\n",
    "    temp = []\n",
    "    temp.append(i)\n",
    "    temp.append(temp_raintomorrow.loc[i][0])\n",
    "    temp.append(temp_raintomorrow.loc[i][1])\n",
    "    rain_tomorrow_month.append(temp)\n",
    "    \n",
    "df_rain_tomorrow_month = pd.DataFrame(rain_tomorrow_month, columns=['Month', 'No', 'Yes'])\n",
    "\n",
    "temp_raintomorrow = pd.DataFrame(df.raintomorrow.value_counts())\n",
    "temp_raintoday = pd.DataFrame(df.raintoday.value_counts())\n",
    "\n",
    "fig, axs = plt.subplots(1, 3, figsize=(16,6))\n",
    "\n",
    "axs[0].pie(temp_raintomorrow.raintomorrow)\n",
    "axs[0].legend(temp_raintomorrow.index)\n",
    "axs[0].set_title('Rain tomorrow')\n",
    "\n",
    "axs[1].pie(temp_raintoday.raintoday)\n",
    "axs[1].legend(temp_raintoday.index)\n",
    "axs[1].set_title('Rain today')\n",
    "\n",
    "axs[2].bar(df_rain_tomorrow_month['Month'], df_rain_tomorrow_month['No'])\n",
    "axs[2].bar(df_rain_tomorrow_month['Month'], df_rain_tomorrow_month['Yes'])\n",
    "axs[2].legend(temp_raintoday.index)\n",
    "axs[2].set_title('Rain tomorrow by month')"
   ]
  },
  {
   "cell_type": "code",
   "execution_count": 22,
   "id": "fc9eaeec",
   "metadata": {},
   "outputs": [
    {
     "data": {
      "text/plain": [
       "Text(0.5, 0, 'Month')"
      ]
     },
     "execution_count": 22,
     "metadata": {},
     "output_type": "execute_result"
    },
    {
     "data": {
      "image/png": "[encoded data removed]",
      "text/plain": [
       "<Figure size 1600x600 with 3 Axes>"
      ]
     },
     "metadata": {},
     "output_type": "display_data"
    }
   ],
   "source": [
    "grouped = df.groupby(by=['month'])\n",
    "\n",
    "fig, axs = plt.subplots(1, 3, figsize=(16,6))\n",
    "\n",
    "axs[0].plot(grouped['mintemp'].mean())\n",
    "axs[0].plot(grouped['maxtemp'].mean())\n",
    "axs[0].legend(['average mintemp', 'average maxtemp'])\n",
    "axs[0].set_title('Average month temperature')\n",
    "axs[0].set_xlabel('Month')\n",
    "\n",
    "axs[1].plot(grouped['rainfall'].mean())\n",
    "#axs[0].plot(grouped['rainfall'].mean())\n",
    "#axs[0].legend(['average mintemp', 'average maxtemp'])\n",
    "axs[1].set_title('Average month rainfall')\n",
    "axs[1].set_xlabel('Month')\n",
    "\n",
    "axs[2].plot(grouped['pressure9am'].max())\n",
    "axs[2].plot(grouped['pressure9am'].min())\n",
    "axs[2].legend(['max pressure9am', 'min pressure9am'])\n",
    "axs[2].set_title('Min and max month pressure9am')\n",
    "axs[2].set_xlabel('Month')"
   ]
  },
  {
   "cell_type": "code",
   "execution_count": 24,
   "id": "911e760f",
   "metadata": {},
   "outputs": [],
   "source": [
    "df_full, df_test = train_test_split(df, test_size=0.2, random_state=123)\n",
    "df_train, df_val = train_test_split(df_full, test_size=0.25, random_state=123)"
   ]
  },
  {
   "cell_type": "code",
   "execution_count": 25,
   "id": "f01ac51c",
   "metadata": {},
   "outputs": [
    {
     "data": {
      "text/plain": [
       "(87276, 29092, 29092)"
      ]
     },
     "execution_count": 25,
     "metadata": {},
     "output_type": "execute_result"
    }
   ],
   "source": [
    "len(df_train), len(df_val), len(df_test)"
   ]
  },
  {
   "cell_type": "code",
   "execution_count": 26,
   "id": "e9fe211f",
   "metadata": {},
   "outputs": [],
   "source": [
    "df_train = df_train.reset_index(drop=True)\n",
    "df_val = df_val.reset_index(drop=True)\n",
    "df_test = df_test.reset_index(drop=True)"
   ]
  },
  {
   "cell_type": "code",
   "execution_count": 27,
   "id": "4d721f15",
   "metadata": {},
   "outputs": [],
   "source": [
    "y_train = df_train['raintomorrow'].values\n",
    "y_val = df_val['raintomorrow'].values\n",
    "y_test = df_test['raintomorrow'].values\n",
    "\n",
    "del df_train['raintomorrow']\n",
    "del df_val['raintomorrow']\n",
    "del df_test['raintomorrow']"
   ]
  },
  {
   "cell_type": "code",
   "execution_count": 28,
   "id": "1fe0d46b",
   "metadata": {},
   "outputs": [],
   "source": [
    "dv = DictVectorizer(sparse=False)\n",
    "train_dict = df_train.to_dict(orient=\"records\")\n",
    "X_train = dv.fit_transform(train_dict)\n",
    "val_dicts = df_val.to_dict(orient='records')\n",
    "X_val = dv.transform(val_dicts)"
   ]
  },
  {
   "cell_type": "code",
   "execution_count": 29,
   "id": "d7752421",
   "metadata": {},
   "outputs": [
    {
     "data": {
      "text/plain": [
       "(87276, 114)"
      ]
     },
     "execution_count": 29,
     "metadata": {},
     "output_type": "execute_result"
    }
   ],
   "source": [
    "X_train.shape"
   ]
  },
  {
   "cell_type": "code",
   "execution_count": 30,
   "id": "84c7098f",
   "metadata": {},
   "outputs": [
    {
     "data": {
      "text/plain": [
       "(29092, 114)"
      ]
     },
     "execution_count": 30,
     "metadata": {},
     "output_type": "execute_result"
    }
   ],
   "source": [
    "X_val.shape"
   ]
  },
  {
   "cell_type": "code",
   "execution_count": 31,
   "id": "097498b3",
   "metadata": {},
   "outputs": [
    {
     "data": {
      "text/plain": [
       "LogisticRegression(max_iter=3000)"
      ]
     },
     "execution_count": 31,
     "metadata": {},
     "output_type": "execute_result"
    }
   ],
   "source": [
    "model_01 = LogisticRegression(solver='lbfgs', max_iter=3000)\n",
    "model_01.fit(X_train, y_train)"
   ]
  },
  {
   "cell_type": "code",
   "execution_count": 32,
   "id": "a27ae71e",
   "metadata": {},
   "outputs": [
    {
     "name": "stdout",
     "output_type": "stream",
     "text": [
      "train: 0.8550664978721344\n",
      "val: 0.8523678838901507\n"
     ]
    }
   ],
   "source": [
    "y_pred_01 = model_01.predict_proba(X_train)[:, 1]\n",
    "auc = roc_auc_score(y_train, y_pred_01)\n",
    "print('train:', auc)\n",
    "\n",
    "y_pred_01 = model_01.predict_proba(X_val)[:, 1]\n",
    "auc = roc_auc_score(y_val, y_pred_01)\n",
    "print('val:', auc)"
   ]
  },
  {
   "cell_type": "code",
   "execution_count": 33,
   "id": "43e2b655",
   "metadata": {},
   "outputs": [
    {
     "data": {
      "application/vnd.jupyter.widget-view+json": {
       "model_id": "7ff088ebe8d54cf280e0cf44662158e3",
       "version_major": 2,
       "version_minor": 0
      },
      "text/plain": [
       "  0%|          | 0/14 [00:00<?, ?it/s]"
      ]
     },
     "metadata": {},
     "output_type": "display_data"
    }
   ],
   "source": [
    "min_samples_leaf = [1, 2, 5, 10, 15, 20, 100, 200, 500]\n",
    "max_depth = np.arange(1, 15, 1)\n",
    "\n",
    "summary_tree = []\n",
    "\n",
    "for d in tqdm(max_depth):\n",
    "    for s in min_samples_leaf:\n",
    "        model_tree = DecisionTreeClassifier(max_depth=d, min_samples_leaf=s)\n",
    "        model_tree.fit(X_train, y_train)\n",
    "        y_pred = model_tree.predict_proba(X_train)[:, 1]\n",
    "        auc_train = roc_auc_score(y_train, y_pred)\n",
    "\n",
    "        y_pred = model_tree.predict_proba(X_val)[:, 1]\n",
    "        auc_val = roc_auc_score(y_val, y_pred)\n",
    "\n",
    "        summary_tree.append([d, s, auc_train, auc_val])\n",
    "        \n",
    "summary_tree = pd.DataFrame(summary_tree, columns=['max_depth', 'min_sample_leaf', 'auc_train', 'auc_val'])"
   ]
  },
  {
   "cell_type": "code",
   "execution_count": 34,
   "id": "3fbfb165",
   "metadata": {},
   "outputs": [
    {
     "data": {
      "text/html": [
       "<div>\n",
       "<style scoped>\n",
       "    .dataframe tbody tr th:only-of-type {\n",
       "        vertical-align: middle;\n",
       "    }\n",
       "\n",
       "    .dataframe tbody tr th {\n",
       "        vertical-align: top;\n",
       "    }\n",
       "\n",
       "    .dataframe thead th {\n",
       "        text-align: right;\n",
       "    }\n",
       "</style>\n",
       "<table border=\"1\" class=\"dataframe\">\n",
       "  <thead>\n",
       "    <tr style=\"text-align: right;\">\n",
       "      <th></th>\n",
       "      <th>max_depth</th>\n",
       "      <th>min_sample_leaf</th>\n",
       "      <th>auc_train</th>\n",
       "      <th>auc_val</th>\n",
       "    </tr>\n",
       "  </thead>\n",
       "  <tbody>\n",
       "    <tr>\n",
       "      <th>124</th>\n",
       "      <td>14</td>\n",
       "      <td>200</td>\n",
       "      <td>0.861786</td>\n",
       "      <td>0.839530</td>\n",
       "    </tr>\n",
       "    <tr>\n",
       "      <th>115</th>\n",
       "      <td>13</td>\n",
       "      <td>200</td>\n",
       "      <td>0.860965</td>\n",
       "      <td>0.839177</td>\n",
       "    </tr>\n",
       "    <tr>\n",
       "      <th>106</th>\n",
       "      <td>12</td>\n",
       "      <td>200</td>\n",
       "      <td>0.859971</td>\n",
       "      <td>0.838199</td>\n",
       "    </tr>\n",
       "    <tr>\n",
       "      <th>96</th>\n",
       "      <td>11</td>\n",
       "      <td>100</td>\n",
       "      <td>0.865981</td>\n",
       "      <td>0.837925</td>\n",
       "    </tr>\n",
       "    <tr>\n",
       "      <th>114</th>\n",
       "      <td>13</td>\n",
       "      <td>100</td>\n",
       "      <td>0.870574</td>\n",
       "      <td>0.837762</td>\n",
       "    </tr>\n",
       "    <tr>\n",
       "      <th>105</th>\n",
       "      <td>12</td>\n",
       "      <td>100</td>\n",
       "      <td>0.868696</td>\n",
       "      <td>0.837762</td>\n",
       "    </tr>\n",
       "    <tr>\n",
       "      <th>97</th>\n",
       "      <td>11</td>\n",
       "      <td>200</td>\n",
       "      <td>0.858542</td>\n",
       "      <td>0.837750</td>\n",
       "    </tr>\n",
       "    <tr>\n",
       "      <th>123</th>\n",
       "      <td>14</td>\n",
       "      <td>100</td>\n",
       "      <td>0.872143</td>\n",
       "      <td>0.837399</td>\n",
       "    </tr>\n",
       "    <tr>\n",
       "      <th>88</th>\n",
       "      <td>10</td>\n",
       "      <td>200</td>\n",
       "      <td>0.856427</td>\n",
       "      <td>0.836635</td>\n",
       "    </tr>\n",
       "    <tr>\n",
       "      <th>87</th>\n",
       "      <td>10</td>\n",
       "      <td>100</td>\n",
       "      <td>0.862287</td>\n",
       "      <td>0.836616</td>\n",
       "    </tr>\n",
       "  </tbody>\n",
       "</table>\n",
       "</div>"
      ],
      "text/plain": [
       "     max_depth  min_sample_leaf  auc_train   auc_val\n",
       "124         14              200   0.861786  0.839530\n",
       "115         13              200   0.860965  0.839177\n",
       "106         12              200   0.859971  0.838199\n",
       "96          11              100   0.865981  0.837925\n",
       "114         13              100   0.870574  0.837762\n",
       "105         12              100   0.868696  0.837762\n",
       "97          11              200   0.858542  0.837750\n",
       "123         14              100   0.872143  0.837399\n",
       "88          10              200   0.856427  0.836635\n",
       "87          10              100   0.862287  0.836616"
      ]
     },
     "execution_count": 34,
     "metadata": {},
     "output_type": "execute_result"
    }
   ],
   "source": [
    "summary_tree.sort_values(by=['auc_val'], ascending=False).head(10)"
   ]
  },
  {
   "cell_type": "code",
   "execution_count": 35,
   "id": "e1af4780",
   "metadata": {},
   "outputs": [
    {
     "data": {
      "application/vnd.jupyter.widget-view+json": {
       "model_id": "87e2cf57706b41e8a2add7c71e58b673",
       "version_major": 2,
       "version_minor": 0
      },
      "text/plain": [
       "  0%|          | 0/4 [00:00<?, ?it/s]"
      ]
     },
     "metadata": {},
     "output_type": "display_data"
    }
   ],
   "source": [
    "summary_forest = []\n",
    "\n",
    "for d in tqdm(range(10, 50, 10)):\n",
    "    for n in range(10, 191, 30):\n",
    "        model_forest = RandomForestClassifier(random_state=123, n_estimators=n, max_depth=d)\n",
    "        model_forest.fit(X_train, y_train)\n",
    "        forest_predict_train = model_forest.predict_proba(X_train)[:, 1]\n",
    "        auc_train = roc_auc_score(y_train, forest_predict_train)\n",
    "        #print('train:', auc_train)\n",
    "\n",
    "        forest_predict_val = model_forest.predict_proba(X_val)[:, 1]\n",
    "        auc_val = roc_auc_score(y_val, forest_predict_val)\n",
    "        #print('val:', auc_val)\n",
    "\n",
    "        summary_forest.append([d, n, auc_train, auc_val])\n",
    "\n",
    "summary_forest = pd.DataFrame(summary_forest, columns=['max_depth', 'n_estimators', 'auc_train', 'auc_val'])"
   ]
  },
  {
   "cell_type": "code",
   "execution_count": 36,
   "id": "f6d86966",
   "metadata": {},
   "outputs": [
    {
     "data": {
      "text/html": [
       "<div>\n",
       "<style scoped>\n",
       "    .dataframe tbody tr th:only-of-type {\n",
       "        vertical-align: middle;\n",
       "    }\n",
       "\n",
       "    .dataframe tbody tr th {\n",
       "        vertical-align: top;\n",
       "    }\n",
       "\n",
       "    .dataframe thead th {\n",
       "        text-align: right;\n",
       "    }\n",
       "</style>\n",
       "<table border=\"1\" class=\"dataframe\">\n",
       "  <thead>\n",
       "    <tr style=\"text-align: right;\">\n",
       "      <th></th>\n",
       "      <th>max_depth</th>\n",
       "      <th>n_estimators</th>\n",
       "      <th>auc_train</th>\n",
       "      <th>auc_val</th>\n",
       "    </tr>\n",
       "  </thead>\n",
       "  <tbody>\n",
       "    <tr>\n",
       "      <th>6</th>\n",
       "      <td>10</td>\n",
       "      <td>190</td>\n",
       "      <td>0.872260</td>\n",
       "      <td>0.847704</td>\n",
       "    </tr>\n",
       "    <tr>\n",
       "      <th>4</th>\n",
       "      <td>10</td>\n",
       "      <td>130</td>\n",
       "      <td>0.872047</td>\n",
       "      <td>0.847566</td>\n",
       "    </tr>\n",
       "    <tr>\n",
       "      <th>5</th>\n",
       "      <td>10</td>\n",
       "      <td>160</td>\n",
       "      <td>0.872195</td>\n",
       "      <td>0.847463</td>\n",
       "    </tr>\n",
       "    <tr>\n",
       "      <th>3</th>\n",
       "      <td>10</td>\n",
       "      <td>100</td>\n",
       "      <td>0.871709</td>\n",
       "      <td>0.847176</td>\n",
       "    </tr>\n",
       "    <tr>\n",
       "      <th>7</th>\n",
       "      <td>20</td>\n",
       "      <td>10</td>\n",
       "      <td>0.977238</td>\n",
       "      <td>0.846843</td>\n",
       "    </tr>\n",
       "    <tr>\n",
       "      <th>2</th>\n",
       "      <td>10</td>\n",
       "      <td>70</td>\n",
       "      <td>0.870860</td>\n",
       "      <td>0.846590</td>\n",
       "    </tr>\n",
       "    <tr>\n",
       "      <th>1</th>\n",
       "      <td>10</td>\n",
       "      <td>40</td>\n",
       "      <td>0.870167</td>\n",
       "      <td>0.846101</td>\n",
       "    </tr>\n",
       "    <tr>\n",
       "      <th>0</th>\n",
       "      <td>10</td>\n",
       "      <td>10</td>\n",
       "      <td>0.863641</td>\n",
       "      <td>0.841508</td>\n",
       "    </tr>\n",
       "  </tbody>\n",
       "</table>\n",
       "</div>"
      ],
      "text/plain": [
       "   max_depth  n_estimators  auc_train   auc_val\n",
       "6         10           190   0.872260  0.847704\n",
       "4         10           130   0.872047  0.847566\n",
       "5         10           160   0.872195  0.847463\n",
       "3         10           100   0.871709  0.847176\n",
       "7         20            10   0.977238  0.846843\n",
       "2         10            70   0.870860  0.846590\n",
       "1         10            40   0.870167  0.846101\n",
       "0         10            10   0.863641  0.841508"
      ]
     },
     "execution_count": 36,
     "metadata": {},
     "output_type": "execute_result"
    }
   ],
   "source": [
    "summary_forest[summary_forest['auc_train'] < 0.98].sort_values(by=['auc_val'], ascending=False).head(10)"
   ]
  },
  {
   "cell_type": "code",
   "execution_count": 37,
   "id": "bdf805e4",
   "metadata": {},
   "outputs": [
    {
     "data": {
      "text/plain": [
       "<matplotlib.legend.Legend at 0x265df98aa00>"
      ]
     },
     "execution_count": 37,
     "metadata": {},
     "output_type": "execute_result"
    },
    {
     "data": {
      "image/png": "[encoded data removed]",
      "text/plain": [
       "<Figure size 640x480 with 1 Axes>"
      ]
     },
     "metadata": {},
     "output_type": "display_data"
    }
   ],
   "source": [
    "for d in range(10, 50, 10):\n",
    "    df_subset = summary_forest[summary_forest.max_depth == d]\n",
    "    \n",
    "    plt.plot(df_subset.n_estimators, df_subset.auc_val,\n",
    "             label='max_depth=%d' % d)\n",
    "\n",
    "plt.legend()"
   ]
  },
  {
   "cell_type": "code",
   "execution_count": 38,
   "id": "21fe08f0",
   "metadata": {},
   "outputs": [
    {
     "data": {
      "text/plain": [
       "DecisionTreeClassifier(max_depth=12, min_samples_leaf=200)"
      ]
     },
     "execution_count": 38,
     "metadata": {},
     "output_type": "execute_result"
    }
   ],
   "source": [
    "model_02 = DecisionTreeClassifier(max_depth=12, min_samples_leaf=200)\n",
    "model_02.fit(X_train, y_train)"
   ]
  },
  {
   "cell_type": "code",
   "execution_count": 39,
   "id": "0a685222",
   "metadata": {},
   "outputs": [
    {
     "name": "stdout",
     "output_type": "stream",
     "text": [
      "train: 0.8599713317681856\n",
      "val: 0.8382357188598086\n"
     ]
    }
   ],
   "source": [
    "y_pred_02 = model_02.predict_proba(X_train)[:, 1]\n",
    "auc = roc_auc_score(y_train, y_pred_02)\n",
    "print('train:', auc)\n",
    "\n",
    "y_pred_02 = model_02.predict_proba(X_val)[:, 1]\n",
    "auc = roc_auc_score(y_val, y_pred_02)\n",
    "print('val:', auc)"
   ]
  },
  {
   "cell_type": "code",
   "execution_count": 40,
   "id": "7fa75367",
   "metadata": {},
   "outputs": [
    {
     "data": {
      "text/plain": [
       "RandomForestClassifier(max_depth=10, n_estimators=190, random_state=123)"
      ]
     },
     "execution_count": 40,
     "metadata": {},
     "output_type": "execute_result"
    }
   ],
   "source": [
    "model_03 = RandomForestClassifier(random_state=123, n_estimators=190, max_depth=10)\n",
    "model_03.fit(X_train, y_train)"
   ]
  },
  {
   "cell_type": "code",
   "execution_count": 41,
   "id": "f3f0cf34",
   "metadata": {},
   "outputs": [
    {
     "name": "stdout",
     "output_type": "stream",
     "text": [
      "train: 0.8722600620318441\n",
      "val: 0.8477039038896302\n"
     ]
    }
   ],
   "source": [
    "y_pred_03 = model_03.predict_proba(X_train)[:, 1]\n",
    "auc = roc_auc_score(y_train, y_pred_03)\n",
    "print('train:', auc)\n",
    "\n",
    "y_pred_03 = model_03.predict_proba(X_val)[:, 1]\n",
    "auc = roc_auc_score(y_val, y_pred_03)\n",
    "print('val:', auc)"
   ]
  },
  {
   "cell_type": "code",
   "execution_count": 42,
   "id": "584ed0ec",
   "metadata": {},
   "outputs": [],
   "source": [
    "df_full = df_full.reset_index(drop=True)\n",
    "y_full = df_full['raintomorrow'].values\n",
    "\n",
    "del df_full['raintomorrow']"
   ]
  },
  {
   "cell_type": "code",
   "execution_count": 43,
   "id": "91ac0e84",
   "metadata": {},
   "outputs": [],
   "source": [
    "dv = DictVectorizer(sparse=False)\n",
    "full_dict = df_full.to_dict(orient=\"records\")\n",
    "X_full = dv.fit_transform(full_dict)\n",
    "test_dicts = df_test.to_dict(orient='records')\n",
    "X_test = dv.transform(test_dicts)"
   ]
  },
  {
   "cell_type": "code",
   "execution_count": 44,
   "id": "7412f580",
   "metadata": {},
   "outputs": [
    {
     "data": {
      "text/plain": [
       "RandomForestClassifier(max_depth=10, n_estimators=190, random_state=123)"
      ]
     },
     "execution_count": 44,
     "metadata": {},
     "output_type": "execute_result"
    }
   ],
   "source": [
    "model_final = RandomForestClassifier(random_state=123, n_estimators=190, max_depth=10)\n",
    "model_final.fit(X_full, y_full)"
   ]
  },
  {
   "cell_type": "code",
   "execution_count": 45,
   "id": "a8d2b6e0",
   "metadata": {},
   "outputs": [
    {
     "name": "stdout",
     "output_type": "stream",
     "text": [
      "train: 0.8670470213424031\n",
      "val: 0.8503816129405799\n"
     ]
    }
   ],
   "source": [
    "y_pred_final = model_final.predict_proba(X_full)[:, 1]\n",
    "auc = roc_auc_score(y_full, y_pred_final)\n",
    "print('train:', auc)\n",
    "\n",
    "y_pred_final = model_final.predict_proba(X_test)[:, 1]\n",
    "auc = roc_auc_score(y_test, y_pred_final)\n",
    "print('val:', auc)"
   ]
  },
  {
   "cell_type": "code",
   "execution_count": 46,
   "id": "c457409e",
   "metadata": {},
   "outputs": [],
   "source": [
    "def train(df_train, y_train):\n",
    "    dv = DictVectorizer(sparse=False)\n",
    "    df_dict_train = df_train.to_dict(orient=\"records\")\n",
    "    X_train = dv.fit_transform(df_dict_train)\n",
    "    \n",
    "    model = RandomForestClassifier(random_state=123, n_estimators=190, max_depth=10)\n",
    "    model.fit(X_train, y_train)\n",
    "    \n",
    "    return dv, model"
   ]
  },
  {
   "cell_type": "code",
   "execution_count": 47,
   "id": "840310d1",
   "metadata": {},
   "outputs": [],
   "source": [
    "dv, model = train(df_train, y_train)"
   ]
  },
  {
   "cell_type": "code",
   "execution_count": 48,
   "id": "423b57e6",
   "metadata": {},
   "outputs": [],
   "source": [
    "def predict(df, dv, model):\n",
    "    \n",
    "    df_dict = df.to_dict(orient=\"records\")\n",
    "\n",
    "    X = dv.transform(df_dict)\n",
    "    y_pred = model.predict_proba(X)[:, 1]\n",
    "\n",
    "    return y_pred"
   ]
  },
  {
   "cell_type": "code",
   "execution_count": 49,
   "id": "4e0f669e",
   "metadata": {},
   "outputs": [],
   "source": [
    "y_pred = predict(df_val, dv, model)"
   ]
  },
  {
   "cell_type": "code",
   "execution_count": 50,
   "id": "49e93c01",
   "metadata": {},
   "outputs": [
    {
     "data": {
      "text/plain": [
       "0.8503816129405799"
      ]
     },
     "execution_count": 50,
     "metadata": {},
     "output_type": "execute_result"
    }
   ],
   "source": [
    "dv, model = train(df_full, y_full)\n",
    "y_pred = predict(df_test, dv, model)\n",
    "\n",
    "auc = roc_auc_score(y_test, y_pred)\n",
    "auc"
   ]
  },
  {
   "cell_type": "code",
   "execution_count": 51,
   "id": "8f2bf4d6",
   "metadata": {},
   "outputs": [],
   "source": [
    "import pickle"
   ]
  },
  {
   "cell_type": "code",
   "execution_count": 52,
   "id": "c141e63c",
   "metadata": {},
   "outputs": [],
   "source": [
    "output_file = 'model_forest.bin'"
   ]
  },
  {
   "cell_type": "code",
   "execution_count": 53,
   "id": "3b719882",
   "metadata": {},
   "outputs": [],
   "source": [
    "f_out = open(output_file, 'wb')\n",
    "pickle.dump((dv, model), f_out)\n",
    "f_out.close()"
   ]
  },
  {
   "cell_type": "code",
   "execution_count": null,
   "id": "0696f454",
   "metadata": {},
   "outputs": [],
   "source": []
  }
 ],
 "metadata": {
  "kernelspec": {
   "display_name": "Python 3 (ipykernel)",
   "language": "python",
   "name": "python3"
  },
  "language_info": {
   "codemirror_mode": {
    "name": "ipython",
    "version": 3
   },
   "file_extension": ".py",
   "mimetype": "text/x-python",
   "name": "python",
   "nbconvert_exporter": "python",
   "pygments_lexer": "ipython3",
   "version": "3.9.13"
  }
 },
 "nbformat": 4,
 "nbformat_minor": 5
}
