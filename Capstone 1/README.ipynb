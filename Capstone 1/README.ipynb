{
 "cells": [
  {
   "cell_type": "markdown",
   "id": "2bca6c68",
   "metadata": {},
   "source": [
    "The dataset for this project downloaded from  https://www.kaggle.com/datasets/puneet6060/intel-image-classification"
   ]
  },
  {
   "cell_type": "markdown",
   "id": "13739d31",
   "metadata": {},
   "source": [
    "This is image data of Natural Scenes around the world."
   ]
  },
  {
   "cell_type": "markdown",
   "id": "33c14ebb",
   "metadata": {},
   "source": [
    "There are 6 different classes in this dataset"
   ]
  },
  {
   "cell_type": "markdown",
   "id": "24523d00",
   "metadata": {},
   "source": [
    "- buildings\n",
    "- forest\n",
    "- glacier\n",
    "- mountain\n",
    "- sea\n",
    "- street"
   ]
  },
  {
   "cell_type": "markdown",
   "id": "20491e8c",
   "metadata": {},
   "source": [
    "With my EDA you can see that there are almost equal distribution by classes in train dataset, so it won't make any problems with it. And this dataset contains images with same resolution 150x150 so there won't be any changes in models."
   ]
  },
  {
   "cell_type": "markdown",
   "id": "e93eb42d",
   "metadata": {},
   "source": [
    "I'v tried 3 differnet Tensorflow models for this project"
   ]
  },
  {
   "cell_type": "markdown",
   "id": "934f715d",
   "metadata": {},
   "source": [
    "1. Simple CNN model "
   ]
  },
  {
   "cell_type": "markdown",
   "id": "86deed00",
   "metadata": {},
   "source": [
    "2. Same simple CNN model with augmentation"
   ]
  },
  {
   "cell_type": "markdown",
   "id": "8336aed4",
   "metadata": {},
   "source": [
    "3. Transfer learning"
   ]
  },
  {
   "cell_type": "markdown",
   "id": "fac421e3",
   "metadata": {},
   "source": [
    "In my opinion the best solution was simple CNN model with the best accuracy 81% on test dataset"
   ]
  },
  {
   "cell_type": "markdown",
   "id": "a157fba1",
   "metadata": {},
   "source": [
    "by launching predict.py you can download image and get class for this image"
   ]
  },
  {
   "cell_type": "markdown",
   "id": "2ee7ff27",
   "metadata": {},
   "source": [
    "With this project you can classify images of natural Scenes "
   ]
  }
 ],
 "metadata": {
  "kernelspec": {
   "display_name": "Python 3 (ipykernel)",
   "language": "python",
   "name": "python3"
  },
  "language_info": {
   "codemirror_mode": {
    "name": "ipython",
    "version": 3
   },
   "file_extension": ".py",
   "mimetype": "text/x-python",
   "name": "python",
   "nbconvert_exporter": "python",
   "pygments_lexer": "ipython3",
   "version": "3.9.13"
  }
 },
 "nbformat": 4,
 "nbformat_minor": 5
}
