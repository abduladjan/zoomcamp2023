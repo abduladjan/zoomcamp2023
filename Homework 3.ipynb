{
 "cells": [
  {
   "cell_type": "code",
   "execution_count": 1,
   "id": "0faa1a4e",
   "metadata": {},
   "outputs": [
    {
     "name": "stdout",
     "output_type": "stream",
     "text": [
      "Requirement already satisfied: wget in c:\\users\\abdul\\anaconda3\\lib\\site-packages (3.2)\n",
      "Note: you may need to restart the kernel to use updated packages.\n"
     ]
    }
   ],
   "source": [
    "pip install wget"
   ]
  },
  {
   "cell_type": "code",
   "execution_count": 2,
   "id": "3af040ae",
   "metadata": {},
   "outputs": [
    {
     "name": "stdout",
     "output_type": "stream",
     "text": [
      "\n",
      "Saved under data (6).csv\n"
     ]
    }
   ],
   "source": [
    "!python -m wget https://raw.githubusercontent.com/alexeygrigorev/mlbookcamp-code/master/chapter-02-car-price/data.csv -o data.csv"
   ]
  },
  {
   "cell_type": "code",
   "execution_count": 3,
   "id": "5c51a0c5",
   "metadata": {},
   "outputs": [],
   "source": [
    "import pandas as pd\n",
    "import numpy as np\n",
    "from matplotlib import pyplot as plt\n",
    "import seaborn as sns\n",
    "\n",
    "from sklearn.model_selection import train_test_split\n",
    "from sklearn.metrics import mutual_info_score\n",
    "from sklearn.preprocessing import OneHotEncoder\n",
    "from sklearn.linear_model import LogisticRegression\n",
    "from sklearn.feature_extraction import DictVectorizer\n",
    "from sklearn.linear_model import Ridge\n",
    "from sklearn.metrics import mean_squared_error\n",
    "\n",
    "%matplotlib inline"
   ]
  },
  {
   "cell_type": "code",
   "execution_count": 4,
   "id": "330f809b",
   "metadata": {},
   "outputs": [],
   "source": [
    "df = pd.read_csv('data.csv')"
   ]
  },
  {
   "cell_type": "code",
   "execution_count": 5,
   "id": "922ec16b",
   "metadata": {},
   "outputs": [
    {
     "data": {
      "text/html": [
       "<div>\n",
       "<style scoped>\n",
       "    .dataframe tbody tr th:only-of-type {\n",
       "        vertical-align: middle;\n",
       "    }\n",
       "\n",
       "    .dataframe tbody tr th {\n",
       "        vertical-align: top;\n",
       "    }\n",
       "\n",
       "    .dataframe thead th {\n",
       "        text-align: right;\n",
       "    }\n",
       "</style>\n",
       "<table border=\"1\" class=\"dataframe\">\n",
       "  <thead>\n",
       "    <tr style=\"text-align: right;\">\n",
       "      <th></th>\n",
       "      <th>Make</th>\n",
       "      <th>Model</th>\n",
       "      <th>Year</th>\n",
       "      <th>Engine Fuel Type</th>\n",
       "      <th>Engine HP</th>\n",
       "      <th>Engine Cylinders</th>\n",
       "      <th>Transmission Type</th>\n",
       "      <th>Driven_Wheels</th>\n",
       "      <th>Number of Doors</th>\n",
       "      <th>Market Category</th>\n",
       "      <th>Vehicle Size</th>\n",
       "      <th>Vehicle Style</th>\n",
       "      <th>highway MPG</th>\n",
       "      <th>city mpg</th>\n",
       "      <th>Popularity</th>\n",
       "      <th>MSRP</th>\n",
       "    </tr>\n",
       "  </thead>\n",
       "  <tbody>\n",
       "    <tr>\n",
       "      <th>0</th>\n",
       "      <td>BMW</td>\n",
       "      <td>1 Series M</td>\n",
       "      <td>2011</td>\n",
       "      <td>premium unleaded (required)</td>\n",
       "      <td>335.0</td>\n",
       "      <td>6.0</td>\n",
       "      <td>MANUAL</td>\n",
       "      <td>rear wheel drive</td>\n",
       "      <td>2.0</td>\n",
       "      <td>Factory Tuner,Luxury,High-Performance</td>\n",
       "      <td>Compact</td>\n",
       "      <td>Coupe</td>\n",
       "      <td>26</td>\n",
       "      <td>19</td>\n",
       "      <td>3916</td>\n",
       "      <td>46135</td>\n",
       "    </tr>\n",
       "    <tr>\n",
       "      <th>1</th>\n",
       "      <td>BMW</td>\n",
       "      <td>1 Series</td>\n",
       "      <td>2011</td>\n",
       "      <td>premium unleaded (required)</td>\n",
       "      <td>300.0</td>\n",
       "      <td>6.0</td>\n",
       "      <td>MANUAL</td>\n",
       "      <td>rear wheel drive</td>\n",
       "      <td>2.0</td>\n",
       "      <td>Luxury,Performance</td>\n",
       "      <td>Compact</td>\n",
       "      <td>Convertible</td>\n",
       "      <td>28</td>\n",
       "      <td>19</td>\n",
       "      <td>3916</td>\n",
       "      <td>40650</td>\n",
       "    </tr>\n",
       "    <tr>\n",
       "      <th>2</th>\n",
       "      <td>BMW</td>\n",
       "      <td>1 Series</td>\n",
       "      <td>2011</td>\n",
       "      <td>premium unleaded (required)</td>\n",
       "      <td>300.0</td>\n",
       "      <td>6.0</td>\n",
       "      <td>MANUAL</td>\n",
       "      <td>rear wheel drive</td>\n",
       "      <td>2.0</td>\n",
       "      <td>Luxury,High-Performance</td>\n",
       "      <td>Compact</td>\n",
       "      <td>Coupe</td>\n",
       "      <td>28</td>\n",
       "      <td>20</td>\n",
       "      <td>3916</td>\n",
       "      <td>36350</td>\n",
       "    </tr>\n",
       "    <tr>\n",
       "      <th>3</th>\n",
       "      <td>BMW</td>\n",
       "      <td>1 Series</td>\n",
       "      <td>2011</td>\n",
       "      <td>premium unleaded (required)</td>\n",
       "      <td>230.0</td>\n",
       "      <td>6.0</td>\n",
       "      <td>MANUAL</td>\n",
       "      <td>rear wheel drive</td>\n",
       "      <td>2.0</td>\n",
       "      <td>Luxury,Performance</td>\n",
       "      <td>Compact</td>\n",
       "      <td>Coupe</td>\n",
       "      <td>28</td>\n",
       "      <td>18</td>\n",
       "      <td>3916</td>\n",
       "      <td>29450</td>\n",
       "    </tr>\n",
       "    <tr>\n",
       "      <th>4</th>\n",
       "      <td>BMW</td>\n",
       "      <td>1 Series</td>\n",
       "      <td>2011</td>\n",
       "      <td>premium unleaded (required)</td>\n",
       "      <td>230.0</td>\n",
       "      <td>6.0</td>\n",
       "      <td>MANUAL</td>\n",
       "      <td>rear wheel drive</td>\n",
       "      <td>2.0</td>\n",
       "      <td>Luxury</td>\n",
       "      <td>Compact</td>\n",
       "      <td>Convertible</td>\n",
       "      <td>28</td>\n",
       "      <td>18</td>\n",
       "      <td>3916</td>\n",
       "      <td>34500</td>\n",
       "    </tr>\n",
       "  </tbody>\n",
       "</table>\n",
       "</div>"
      ],
      "text/plain": [
       "  Make       Model  Year             Engine Fuel Type  Engine HP  \\\n",
       "0  BMW  1 Series M  2011  premium unleaded (required)      335.0   \n",
       "1  BMW    1 Series  2011  premium unleaded (required)      300.0   \n",
       "2  BMW    1 Series  2011  premium unleaded (required)      300.0   \n",
       "3  BMW    1 Series  2011  premium unleaded (required)      230.0   \n",
       "4  BMW    1 Series  2011  premium unleaded (required)      230.0   \n",
       "\n",
       "   Engine Cylinders Transmission Type     Driven_Wheels  Number of Doors  \\\n",
       "0               6.0            MANUAL  rear wheel drive              2.0   \n",
       "1               6.0            MANUAL  rear wheel drive              2.0   \n",
       "2               6.0            MANUAL  rear wheel drive              2.0   \n",
       "3               6.0            MANUAL  rear wheel drive              2.0   \n",
       "4               6.0            MANUAL  rear wheel drive              2.0   \n",
       "\n",
       "                         Market Category Vehicle Size Vehicle Style  \\\n",
       "0  Factory Tuner,Luxury,High-Performance      Compact         Coupe   \n",
       "1                     Luxury,Performance      Compact   Convertible   \n",
       "2                Luxury,High-Performance      Compact         Coupe   \n",
       "3                     Luxury,Performance      Compact         Coupe   \n",
       "4                                 Luxury      Compact   Convertible   \n",
       "\n",
       "   highway MPG  city mpg  Popularity   MSRP  \n",
       "0           26        19        3916  46135  \n",
       "1           28        19        3916  40650  \n",
       "2           28        20        3916  36350  \n",
       "3           28        18        3916  29450  \n",
       "4           28        18        3916  34500  "
      ]
     },
     "execution_count": 5,
     "metadata": {},
     "output_type": "execute_result"
    }
   ],
   "source": [
    "df.head()"
   ]
  },
  {
   "cell_type": "code",
   "execution_count": 6,
   "id": "b0b29a7c",
   "metadata": {},
   "outputs": [],
   "source": [
    "features = ['Make', 'Model', 'Year', 'Engine HP', 'Engine Cylinders', 'Transmission Type', 'Vehicle Style', 'highway MPG', 'city mpg', 'MSRP']"
   ]
  },
  {
   "cell_type": "code",
   "execution_count": 7,
   "id": "827c8926",
   "metadata": {},
   "outputs": [],
   "source": [
    "df = df[features]"
   ]
  },
  {
   "cell_type": "code",
   "execution_count": 8,
   "id": "56ca817b",
   "metadata": {},
   "outputs": [],
   "source": [
    "df.columns = df.columns.str.replace(' ', '_').str.lower()"
   ]
  },
  {
   "cell_type": "code",
   "execution_count": 9,
   "id": "a2465643",
   "metadata": {},
   "outputs": [
    {
     "data": {
      "text/plain": [
       "make                  0\n",
       "model                 0\n",
       "year                  0\n",
       "engine_hp            69\n",
       "engine_cylinders     30\n",
       "transmission_type     0\n",
       "vehicle_style         0\n",
       "highway_mpg           0\n",
       "city_mpg              0\n",
       "msrp                  0\n",
       "dtype: int64"
      ]
     },
     "execution_count": 9,
     "metadata": {},
     "output_type": "execute_result"
    }
   ],
   "source": [
    "df.isnull().sum()"
   ]
  },
  {
   "cell_type": "code",
   "execution_count": 10,
   "id": "c0626dd7",
   "metadata": {},
   "outputs": [],
   "source": [
    "df = df.fillna(0)"
   ]
  },
  {
   "cell_type": "code",
   "execution_count": 11,
   "id": "31ec8197",
   "metadata": {},
   "outputs": [
    {
     "data": {
      "text/html": [
       "<div>\n",
       "<style scoped>\n",
       "    .dataframe tbody tr th:only-of-type {\n",
       "        vertical-align: middle;\n",
       "    }\n",
       "\n",
       "    .dataframe tbody tr th {\n",
       "        vertical-align: top;\n",
       "    }\n",
       "\n",
       "    .dataframe thead th {\n",
       "        text-align: right;\n",
       "    }\n",
       "</style>\n",
       "<table border=\"1\" class=\"dataframe\">\n",
       "  <thead>\n",
       "    <tr style=\"text-align: right;\">\n",
       "      <th></th>\n",
       "      <th>make</th>\n",
       "      <th>model</th>\n",
       "      <th>year</th>\n",
       "      <th>engine_hp</th>\n",
       "      <th>engine_cylinders</th>\n",
       "      <th>transmission_type</th>\n",
       "      <th>vehicle_style</th>\n",
       "      <th>highway_mpg</th>\n",
       "      <th>city_mpg</th>\n",
       "      <th>msrp</th>\n",
       "    </tr>\n",
       "  </thead>\n",
       "  <tbody>\n",
       "    <tr>\n",
       "      <th>0</th>\n",
       "      <td>BMW</td>\n",
       "      <td>1 Series M</td>\n",
       "      <td>2011</td>\n",
       "      <td>335.0</td>\n",
       "      <td>6.0</td>\n",
       "      <td>MANUAL</td>\n",
       "      <td>Coupe</td>\n",
       "      <td>26</td>\n",
       "      <td>19</td>\n",
       "      <td>46135</td>\n",
       "    </tr>\n",
       "    <tr>\n",
       "      <th>1</th>\n",
       "      <td>BMW</td>\n",
       "      <td>1 Series</td>\n",
       "      <td>2011</td>\n",
       "      <td>300.0</td>\n",
       "      <td>6.0</td>\n",
       "      <td>MANUAL</td>\n",
       "      <td>Convertible</td>\n",
       "      <td>28</td>\n",
       "      <td>19</td>\n",
       "      <td>40650</td>\n",
       "    </tr>\n",
       "    <tr>\n",
       "      <th>2</th>\n",
       "      <td>BMW</td>\n",
       "      <td>1 Series</td>\n",
       "      <td>2011</td>\n",
       "      <td>300.0</td>\n",
       "      <td>6.0</td>\n",
       "      <td>MANUAL</td>\n",
       "      <td>Coupe</td>\n",
       "      <td>28</td>\n",
       "      <td>20</td>\n",
       "      <td>36350</td>\n",
       "    </tr>\n",
       "    <tr>\n",
       "      <th>3</th>\n",
       "      <td>BMW</td>\n",
       "      <td>1 Series</td>\n",
       "      <td>2011</td>\n",
       "      <td>230.0</td>\n",
       "      <td>6.0</td>\n",
       "      <td>MANUAL</td>\n",
       "      <td>Coupe</td>\n",
       "      <td>28</td>\n",
       "      <td>18</td>\n",
       "      <td>29450</td>\n",
       "    </tr>\n",
       "    <tr>\n",
       "      <th>4</th>\n",
       "      <td>BMW</td>\n",
       "      <td>1 Series</td>\n",
       "      <td>2011</td>\n",
       "      <td>230.0</td>\n",
       "      <td>6.0</td>\n",
       "      <td>MANUAL</td>\n",
       "      <td>Convertible</td>\n",
       "      <td>28</td>\n",
       "      <td>18</td>\n",
       "      <td>34500</td>\n",
       "    </tr>\n",
       "  </tbody>\n",
       "</table>\n",
       "</div>"
      ],
      "text/plain": [
       "  make       model  year  engine_hp  engine_cylinders transmission_type  \\\n",
       "0  BMW  1 Series M  2011      335.0               6.0            MANUAL   \n",
       "1  BMW    1 Series  2011      300.0               6.0            MANUAL   \n",
       "2  BMW    1 Series  2011      300.0               6.0            MANUAL   \n",
       "3  BMW    1 Series  2011      230.0               6.0            MANUAL   \n",
       "4  BMW    1 Series  2011      230.0               6.0            MANUAL   \n",
       "\n",
       "  vehicle_style  highway_mpg  city_mpg   msrp  \n",
       "0         Coupe           26        19  46135  \n",
       "1   Convertible           28        19  40650  \n",
       "2         Coupe           28        20  36350  \n",
       "3         Coupe           28        18  29450  \n",
       "4   Convertible           28        18  34500  "
      ]
     },
     "execution_count": 11,
     "metadata": {},
     "output_type": "execute_result"
    }
   ],
   "source": [
    "df.head()"
   ]
  },
  {
   "cell_type": "code",
   "execution_count": 12,
   "id": "b7a9e645",
   "metadata": {},
   "outputs": [],
   "source": [
    "df = df.rename(columns={'msrp':'price'})"
   ]
  },
  {
   "cell_type": "markdown",
   "id": "544ebabe",
   "metadata": {},
   "source": [
    "Question 1"
   ]
  },
  {
   "cell_type": "code",
   "execution_count": 13,
   "id": "93dc7545",
   "metadata": {},
   "outputs": [
    {
     "data": {
      "text/plain": [
       "'AUTOMATIC'"
      ]
     },
     "execution_count": 13,
     "metadata": {},
     "output_type": "execute_result"
    }
   ],
   "source": [
    "df.transmission_type.value_counts().idxmax()"
   ]
  },
  {
   "cell_type": "code",
   "execution_count": 14,
   "id": "97f5d199",
   "metadata": {},
   "outputs": [
    {
     "name": "stdout",
     "output_type": "stream",
     "text": [
      "<class 'pandas.core.frame.DataFrame'>\n",
      "RangeIndex: 11914 entries, 0 to 11913\n",
      "Data columns (total 10 columns):\n",
      " #   Column             Non-Null Count  Dtype  \n",
      "---  ------             --------------  -----  \n",
      " 0   make               11914 non-null  object \n",
      " 1   model              11914 non-null  object \n",
      " 2   year               11914 non-null  int64  \n",
      " 3   engine_hp          11914 non-null  float64\n",
      " 4   engine_cylinders   11914 non-null  float64\n",
      " 5   transmission_type  11914 non-null  object \n",
      " 6   vehicle_style      11914 non-null  object \n",
      " 7   highway_mpg        11914 non-null  int64  \n",
      " 8   city_mpg           11914 non-null  int64  \n",
      " 9   price              11914 non-null  int64  \n",
      "dtypes: float64(2), int64(4), object(4)\n",
      "memory usage: 930.9+ KB\n"
     ]
    }
   ],
   "source": [
    "df.info()"
   ]
  },
  {
   "cell_type": "markdown",
   "id": "84c0f17f",
   "metadata": {},
   "source": [
    "Question 2"
   ]
  },
  {
   "cell_type": "code",
   "execution_count": 15,
   "id": "335e9153",
   "metadata": {},
   "outputs": [
    {
     "data": {
      "text/html": [
       "<div>\n",
       "<style scoped>\n",
       "    .dataframe tbody tr th:only-of-type {\n",
       "        vertical-align: middle;\n",
       "    }\n",
       "\n",
       "    .dataframe tbody tr th {\n",
       "        vertical-align: top;\n",
       "    }\n",
       "\n",
       "    .dataframe thead th {\n",
       "        text-align: right;\n",
       "    }\n",
       "</style>\n",
       "<table border=\"1\" class=\"dataframe\">\n",
       "  <thead>\n",
       "    <tr style=\"text-align: right;\">\n",
       "      <th></th>\n",
       "      <th>year</th>\n",
       "      <th>engine_hp</th>\n",
       "      <th>engine_cylinders</th>\n",
       "      <th>highway_mpg</th>\n",
       "      <th>city_mpg</th>\n",
       "      <th>price</th>\n",
       "    </tr>\n",
       "  </thead>\n",
       "  <tbody>\n",
       "    <tr>\n",
       "      <th>year</th>\n",
       "      <td>1.000000</td>\n",
       "      <td>0.338714</td>\n",
       "      <td>-0.040708</td>\n",
       "      <td>0.258240</td>\n",
       "      <td>0.198171</td>\n",
       "      <td>0.227590</td>\n",
       "    </tr>\n",
       "    <tr>\n",
       "      <th>engine_hp</th>\n",
       "      <td>0.338714</td>\n",
       "      <td>1.000000</td>\n",
       "      <td>0.774851</td>\n",
       "      <td>-0.415707</td>\n",
       "      <td>-0.424918</td>\n",
       "      <td>0.650095</td>\n",
       "    </tr>\n",
       "    <tr>\n",
       "      <th>engine_cylinders</th>\n",
       "      <td>-0.040708</td>\n",
       "      <td>0.774851</td>\n",
       "      <td>1.000000</td>\n",
       "      <td>-0.614541</td>\n",
       "      <td>-0.587306</td>\n",
       "      <td>0.526274</td>\n",
       "    </tr>\n",
       "    <tr>\n",
       "      <th>highway_mpg</th>\n",
       "      <td>0.258240</td>\n",
       "      <td>-0.415707</td>\n",
       "      <td>-0.614541</td>\n",
       "      <td>1.000000</td>\n",
       "      <td>0.886829</td>\n",
       "      <td>-0.160043</td>\n",
       "    </tr>\n",
       "    <tr>\n",
       "      <th>city_mpg</th>\n",
       "      <td>0.198171</td>\n",
       "      <td>-0.424918</td>\n",
       "      <td>-0.587306</td>\n",
       "      <td>0.886829</td>\n",
       "      <td>1.000000</td>\n",
       "      <td>-0.157676</td>\n",
       "    </tr>\n",
       "    <tr>\n",
       "      <th>price</th>\n",
       "      <td>0.227590</td>\n",
       "      <td>0.650095</td>\n",
       "      <td>0.526274</td>\n",
       "      <td>-0.160043</td>\n",
       "      <td>-0.157676</td>\n",
       "      <td>1.000000</td>\n",
       "    </tr>\n",
       "  </tbody>\n",
       "</table>\n",
       "</div>"
      ],
      "text/plain": [
       "                      year  engine_hp  engine_cylinders  highway_mpg  \\\n",
       "year              1.000000   0.338714         -0.040708     0.258240   \n",
       "engine_hp         0.338714   1.000000          0.774851    -0.415707   \n",
       "engine_cylinders -0.040708   0.774851          1.000000    -0.614541   \n",
       "highway_mpg       0.258240  -0.415707         -0.614541     1.000000   \n",
       "city_mpg          0.198171  -0.424918         -0.587306     0.886829   \n",
       "price             0.227590   0.650095          0.526274    -0.160043   \n",
       "\n",
       "                  city_mpg     price  \n",
       "year              0.198171  0.227590  \n",
       "engine_hp        -0.424918  0.650095  \n",
       "engine_cylinders -0.587306  0.526274  \n",
       "highway_mpg       0.886829 -0.160043  \n",
       "city_mpg          1.000000 -0.157676  \n",
       "price            -0.157676  1.000000  "
      ]
     },
     "execution_count": 15,
     "metadata": {},
     "output_type": "execute_result"
    }
   ],
   "source": [
    "df.corr()"
   ]
  },
  {
   "cell_type": "code",
   "execution_count": 16,
   "id": "8baf9901",
   "metadata": {},
   "outputs": [
    {
     "data": {
      "text/plain": [
       "<AxesSubplot:>"
      ]
     },
     "execution_count": 16,
     "metadata": {},
     "output_type": "execute_result"
    },
    {
     "data": {
      "image/png": "[encoded data removed]",
      "text/plain": [
       "<Figure size 640x480 with 2 Axes>"
      ]
     },
     "metadata": {},
     "output_type": "display_data"
    }
   ],
   "source": [
    "sns.heatmap(df.corr())"
   ]
  },
  {
   "cell_type": "code",
   "execution_count": 17,
   "id": "bc19d17e",
   "metadata": {},
   "outputs": [],
   "source": [
    "df['above_average'] = np.where(df.price > df.price.mean(), 1, 0)"
   ]
  },
  {
   "cell_type": "code",
   "execution_count": 18,
   "id": "4cfb675a",
   "metadata": {},
   "outputs": [
    {
     "data": {
      "text/html": [
       "<div>\n",
       "<style scoped>\n",
       "    .dataframe tbody tr th:only-of-type {\n",
       "        vertical-align: middle;\n",
       "    }\n",
       "\n",
       "    .dataframe tbody tr th {\n",
       "        vertical-align: top;\n",
       "    }\n",
       "\n",
       "    .dataframe thead th {\n",
       "        text-align: right;\n",
       "    }\n",
       "</style>\n",
       "<table border=\"1\" class=\"dataframe\">\n",
       "  <thead>\n",
       "    <tr style=\"text-align: right;\">\n",
       "      <th></th>\n",
       "      <th>make</th>\n",
       "      <th>model</th>\n",
       "      <th>year</th>\n",
       "      <th>engine_hp</th>\n",
       "      <th>engine_cylinders</th>\n",
       "      <th>transmission_type</th>\n",
       "      <th>vehicle_style</th>\n",
       "      <th>highway_mpg</th>\n",
       "      <th>city_mpg</th>\n",
       "      <th>price</th>\n",
       "      <th>above_average</th>\n",
       "    </tr>\n",
       "  </thead>\n",
       "  <tbody>\n",
       "    <tr>\n",
       "      <th>0</th>\n",
       "      <td>BMW</td>\n",
       "      <td>1 Series M</td>\n",
       "      <td>2011</td>\n",
       "      <td>335.0</td>\n",
       "      <td>6.0</td>\n",
       "      <td>MANUAL</td>\n",
       "      <td>Coupe</td>\n",
       "      <td>26</td>\n",
       "      <td>19</td>\n",
       "      <td>46135</td>\n",
       "      <td>1</td>\n",
       "    </tr>\n",
       "    <tr>\n",
       "      <th>1</th>\n",
       "      <td>BMW</td>\n",
       "      <td>1 Series</td>\n",
       "      <td>2011</td>\n",
       "      <td>300.0</td>\n",
       "      <td>6.0</td>\n",
       "      <td>MANUAL</td>\n",
       "      <td>Convertible</td>\n",
       "      <td>28</td>\n",
       "      <td>19</td>\n",
       "      <td>40650</td>\n",
       "      <td>1</td>\n",
       "    </tr>\n",
       "    <tr>\n",
       "      <th>2</th>\n",
       "      <td>BMW</td>\n",
       "      <td>1 Series</td>\n",
       "      <td>2011</td>\n",
       "      <td>300.0</td>\n",
       "      <td>6.0</td>\n",
       "      <td>MANUAL</td>\n",
       "      <td>Coupe</td>\n",
       "      <td>28</td>\n",
       "      <td>20</td>\n",
       "      <td>36350</td>\n",
       "      <td>0</td>\n",
       "    </tr>\n",
       "    <tr>\n",
       "      <th>3</th>\n",
       "      <td>BMW</td>\n",
       "      <td>1 Series</td>\n",
       "      <td>2011</td>\n",
       "      <td>230.0</td>\n",
       "      <td>6.0</td>\n",
       "      <td>MANUAL</td>\n",
       "      <td>Coupe</td>\n",
       "      <td>28</td>\n",
       "      <td>18</td>\n",
       "      <td>29450</td>\n",
       "      <td>0</td>\n",
       "    </tr>\n",
       "    <tr>\n",
       "      <th>4</th>\n",
       "      <td>BMW</td>\n",
       "      <td>1 Series</td>\n",
       "      <td>2011</td>\n",
       "      <td>230.0</td>\n",
       "      <td>6.0</td>\n",
       "      <td>MANUAL</td>\n",
       "      <td>Convertible</td>\n",
       "      <td>28</td>\n",
       "      <td>18</td>\n",
       "      <td>34500</td>\n",
       "      <td>0</td>\n",
       "    </tr>\n",
       "  </tbody>\n",
       "</table>\n",
       "</div>"
      ],
      "text/plain": [
       "  make       model  year  engine_hp  engine_cylinders transmission_type  \\\n",
       "0  BMW  1 Series M  2011      335.0               6.0            MANUAL   \n",
       "1  BMW    1 Series  2011      300.0               6.0            MANUAL   \n",
       "2  BMW    1 Series  2011      300.0               6.0            MANUAL   \n",
       "3  BMW    1 Series  2011      230.0               6.0            MANUAL   \n",
       "4  BMW    1 Series  2011      230.0               6.0            MANUAL   \n",
       "\n",
       "  vehicle_style  highway_mpg  city_mpg  price  above_average  \n",
       "0         Coupe           26        19  46135              1  \n",
       "1   Convertible           28        19  40650              1  \n",
       "2         Coupe           28        20  36350              0  \n",
       "3         Coupe           28        18  29450              0  \n",
       "4   Convertible           28        18  34500              0  "
      ]
     },
     "execution_count": 18,
     "metadata": {},
     "output_type": "execute_result"
    }
   ],
   "source": [
    "df.head()"
   ]
  },
  {
   "cell_type": "code",
   "execution_count": 19,
   "id": "aaae533d",
   "metadata": {},
   "outputs": [
    {
     "data": {
      "text/plain": [
       "array([1, 1, 0, ..., 1, 1, 0])"
      ]
     },
     "execution_count": 19,
     "metadata": {},
     "output_type": "execute_result"
    }
   ],
   "source": [
    "df['above_average'].values"
   ]
  },
  {
   "cell_type": "code",
   "execution_count": 20,
   "id": "d0554ca8",
   "metadata": {},
   "outputs": [],
   "source": [
    "y = df['above_average'].values\n",
    "y_price = df['price'].values\n",
    "y_price = np.log1p(y_price)\n",
    "del df['above_average']\n",
    "del df['price']"
   ]
  },
  {
   "cell_type": "code",
   "execution_count": 21,
   "id": "c5ff589a",
   "metadata": {},
   "outputs": [],
   "source": [
    "df_full_p, df_test_p, y_full_p, y_test_p = train_test_split(df, y_price, test_size=0.2, random_state=42)\n",
    "df_train_p, df_val_p, y_train_p, y_val_p = train_test_split(df_full_p, y_full_p, test_size=0.25, random_state=42)"
   ]
  },
  {
   "cell_type": "code",
   "execution_count": 22,
   "id": "8b20e2b8",
   "metadata": {},
   "outputs": [],
   "source": [
    "df_full, df_test, y_full, y_test = train_test_split(df, y, test_size=0.2, random_state=42)\n",
    "df_train, df_val, y_train, y_val = train_test_split(df_full, y_full, test_size=0.25, random_state=42)"
   ]
  },
  {
   "cell_type": "markdown",
   "id": "bd9561f2",
   "metadata": {},
   "source": [
    "Question 3"
   ]
  },
  {
   "cell_type": "code",
   "execution_count": 23,
   "id": "06d3a33e",
   "metadata": {},
   "outputs": [],
   "source": [
    "categorical = list(df.dtypes[df.dtypes == 'object'].index)"
   ]
  },
  {
   "cell_type": "code",
   "execution_count": 24,
   "id": "e99c98cb",
   "metadata": {},
   "outputs": [
    {
     "data": {
      "text/plain": [
       "['make', 'model', 'transmission_type', 'vehicle_style']"
      ]
     },
     "execution_count": 24,
     "metadata": {},
     "output_type": "execute_result"
    }
   ],
   "source": [
    "categorical"
   ]
  },
  {
   "cell_type": "code",
   "execution_count": 25,
   "id": "82d8e535",
   "metadata": {},
   "outputs": [],
   "source": [
    "numerical = [x for x in list(df.columns) if x not in categorical]"
   ]
  },
  {
   "cell_type": "code",
   "execution_count": 26,
   "id": "8e833e78",
   "metadata": {},
   "outputs": [
    {
     "data": {
      "text/plain": [
       "['year', 'engine_hp', 'engine_cylinders', 'highway_mpg', 'city_mpg']"
      ]
     },
     "execution_count": 26,
     "metadata": {},
     "output_type": "execute_result"
    }
   ],
   "source": [
    "numerical"
   ]
  },
  {
   "cell_type": "code",
   "execution_count": 27,
   "id": "a07716db",
   "metadata": {},
   "outputs": [
    {
     "name": "stdout",
     "output_type": "stream",
     "text": [
      "make 0.24\n",
      "model 0.46\n",
      "transmission_type 0.02\n",
      "vehicle_style 0.08\n"
     ]
    }
   ],
   "source": [
    "for i in categorical:\n",
    "    mut_info = mutual_info_score(df_train[i], y_train)\n",
    "    print(i, round(mut_info, 2))"
   ]
  },
  {
   "cell_type": "markdown",
   "id": "176c30ca",
   "metadata": {},
   "source": [
    "Question 4"
   ]
  },
  {
   "cell_type": "code",
   "execution_count": 28,
   "id": "c9f35fb5",
   "metadata": {},
   "outputs": [],
   "source": [
    "enc = OneHotEncoder(handle_unknown='ignore')"
   ]
  },
  {
   "cell_type": "code",
   "execution_count": 29,
   "id": "b8dbf55a",
   "metadata": {},
   "outputs": [
    {
     "data": {
      "text/plain": [
       "OneHotEncoder(handle_unknown='ignore')"
      ]
     },
     "execution_count": 29,
     "metadata": {},
     "output_type": "execute_result"
    }
   ],
   "source": [
    "enc.fit(df_train[categorical])"
   ]
  },
  {
   "cell_type": "code",
   "execution_count": 30,
   "id": "b7dee1f2",
   "metadata": {},
   "outputs": [
    {
     "data": {
      "text/plain": [
       "[array(['Acura', 'Alfa Romeo', 'Aston Martin', 'Audi', 'BMW', 'Bentley',\n",
       "        'Bugatti', 'Buick', 'Cadillac', 'Chevrolet', 'Chrysler', 'Dodge',\n",
       "        'FIAT', 'Ferrari', 'Ford', 'GMC', 'Genesis', 'HUMMER', 'Honda',\n",
       "        'Hyundai', 'Infiniti', 'Kia', 'Lamborghini', 'Land Rover', 'Lexus',\n",
       "        'Lincoln', 'Lotus', 'Maserati', 'Maybach', 'Mazda', 'McLaren',\n",
       "        'Mercedes-Benz', 'Mitsubishi', 'Nissan', 'Oldsmobile', 'Plymouth',\n",
       "        'Pontiac', 'Porsche', 'Rolls-Royce', 'Saab', 'Scion', 'Spyker',\n",
       "        'Subaru', 'Suzuki', 'Tesla', 'Toyota', 'Volkswagen', 'Volvo'],\n",
       "       dtype=object),\n",
       " array(['1 Series', '100', '124 Spider', '190-Class', '2', '2 Series',\n",
       "        '200', '200SX', '240', '240SX', '3', '3 Series',\n",
       "        '3 Series Gran Turismo', '300', '300-Class', '3000GT', '300M',\n",
       "        '300ZX', '323', '350-Class', '350Z', '360', '370Z', '4 Series',\n",
       "        '4 Series Gran Coupe', '400-Class', '420-Class', '456M',\n",
       "        '458 Italia', '4C', '4Runner', '5', '5 Series',\n",
       "        '5 Series Gran Turismo', '500', '500-Class', '500L', '500X',\n",
       "        '500e', '550', '560-Class', '57', '570S', '575M', '599', '6',\n",
       "        '6 Series', '6 Series Gran Coupe', '600-Class', '6000',\n",
       "        '612 Scaglietti', '62', '626', '7 Series', '740', '760', '780',\n",
       "        '8 Series', '80', '850', '9-2X', '9-3', '9-3 Griffin', '9-4X',\n",
       "        '9-5', '9-7X', '90', '900', '9000', '911', '928', '929', '940',\n",
       "        '944', '960', '968', 'A3', 'A4', 'A5', 'A6', 'A7', 'A8',\n",
       "        'ALPINA B6 Gran Coupe', 'ALPINA B7', 'AMG GT', 'ATS', 'ATS Coupe',\n",
       "        'Acadia', 'Acadia Limited', 'Accent', 'Acclaim', 'Accord',\n",
       "        'Accord Crosstour', 'Accord Hybrid', 'Accord Plug-In Hybrid',\n",
       "        'Achieva', 'ActiveHybrid 5', 'ActiveHybrid 7', 'ActiveHybrid X6',\n",
       "        'Aerio', 'Aerostar', 'Alero', 'Allante', 'Altima', 'Altima Hybrid',\n",
       "        'Amanti', 'Armada', 'Arnage', 'Aspen', 'Aspire', 'Astro',\n",
       "        'Astro Cargo', 'Aurora', 'Avalanche', 'Avalon', 'Avalon Hybrid',\n",
       "        'Avenger', 'Aventador', 'Aveo', 'Aviator', 'Axxess', 'Azera',\n",
       "        'Aztek', 'Azure', 'Azure T', 'B-Class Electric Drive', 'B-Series',\n",
       "        'B-Series Pickup', 'B-Series Truck', 'B9 Tribeca', 'BRZ', 'Baja',\n",
       "        'Beetle', 'Beetle Convertible', 'Beretta',\n",
       "        'Black Diamond Avalanche', 'Blackwood', 'Blazer', 'Bonneville',\n",
       "        'Borrego', 'Boxster', 'Bravada', 'Breeze', 'Bronco', 'Bronco II',\n",
       "        'Brooklands', 'Brougham', 'C-Class', 'C-Max Hybrid',\n",
       "        'C/K 1500 Series', 'C/K 2500 Series', 'C30', 'C43 AMG', 'C70',\n",
       "        'C8', 'CC', 'CL', 'CL-Class', 'CLA-Class', 'CLK-Class',\n",
       "        'CLS-Class', 'CR-V', 'CR-Z', 'CT6', 'CTS', 'CTS Coupe',\n",
       "        'CTS Wagon', 'CTS-V', 'CTS-V Coupe', 'CTS-V Wagon', 'CX-3', 'CX-5',\n",
       "        'CX-7', 'CX-9', 'Cabrio', 'Cabriolet', 'Cadenza', 'Caliber',\n",
       "        'Camaro', 'Camry', 'Camry Hybrid', 'Camry Solara', 'Canyon',\n",
       "        'Caprice', 'Captiva Sport', 'Caravan', 'Carrera GT', 'Cascada',\n",
       "        'Catera', 'Cavalier', 'Cayenne', 'Cayman', 'Cayman S', 'Celebrity',\n",
       "        'Celica', 'Century', 'Challenger', 'Charger', 'Chevy Van',\n",
       "        'City Express', 'Civic', 'Civic CRX', 'Civic del Sol', 'Classic',\n",
       "        'Cobalt', 'Colorado', 'Colt', 'Concorde', 'Continental',\n",
       "        'Continental Flying Spur', 'Continental Flying Spur Speed',\n",
       "        'Continental GT', 'Continental GT Speed',\n",
       "        'Continental GT Speed Convertible', 'Continental GTC',\n",
       "        'Continental GTC Speed', 'Continental Supersports',\n",
       "        'Continental Supersports Convertible', 'Contour', 'Corniche',\n",
       "        'Corolla', 'Corolla iM', 'Corrado', 'Corvette',\n",
       "        'Corvette Stingray', 'Coupe', 'Cressida', 'Crossfire', 'Crosstour',\n",
       "        'Crosstrek', 'Crown Victoria', 'Cruze', 'Cruze Limited', 'Cube',\n",
       "        'Custom Cruiser', 'Cutlass', 'Cutlass Calais', 'Cutlass Ciera',\n",
       "        'Cutlass Supreme', 'DB9', 'DB9 GT', 'DBS', 'DTS', 'Dakota', 'Dart',\n",
       "        'Dawn', 'Daytona', 'DeVille', 'Defender', 'Diablo', 'Diamante',\n",
       "        'Discovery', 'Discovery Series II', 'Discovery Sport', 'Durango',\n",
       "        'Dynasty', 'E-150', 'E-250', 'E-Class', 'E-Series Van',\n",
       "        'E-Series Wagon', 'E55 AMG', 'ECHO', 'ES 250', 'ES 300', 'ES 300h',\n",
       "        'EX', 'EX35', 'Eclipse', 'Eclipse Spyder', 'Edge', 'Eighty-Eight',\n",
       "        'Eighty-Eight Royale', 'Elantra', 'Elantra Coupe', 'Elantra GT',\n",
       "        'Elantra Touring', 'Eldorado', 'Electra', 'Element', 'Elise',\n",
       "        'Enclave', 'Encore', 'Endeavor', 'Entourage', 'Envision', 'Envoy',\n",
       "        'Envoy XL', 'Envoy XUV', 'Eos', 'Equator', 'Equinox', 'Equus',\n",
       "        'Escalade', 'Escalade ESV', 'Escalade EXT', 'Escalade Hybrid',\n",
       "        'Escape', 'Escape Hybrid', 'Escort', 'Esprit', 'Esteem', 'EuroVan',\n",
       "        'Evora', 'Excel', 'Exige', 'Expedition', 'Explorer',\n",
       "        'Explorer Sport', 'Explorer Sport Trac', 'Expo', 'Express',\n",
       "        'Express Cargo', 'F-150', 'F-150 Heritage', 'F-150 SVT Lightning',\n",
       "        'F-250', 'F12 Berlinetta', 'F430', 'FF', 'FJ Cruiser', 'FR-S',\n",
       "        'FX', 'FX35', 'FX45', 'FX50', 'Festiva', 'Fiesta', 'Firebird',\n",
       "        'Fit', 'Five Hundred', 'Fleetwood', 'Flex', 'Flying Spur', 'Focus',\n",
       "        'Focus ST', 'Forenza', 'Forester', 'Forte', 'Fox', 'Freelander',\n",
       "        'Freestar', 'Freestyle', 'Frontier', 'Fusion', 'Fusion Hybrid',\n",
       "        'G Convertible', 'G Coupe', 'G Sedan', 'G-Class', 'G20', 'G3',\n",
       "        'G35', 'G37', 'G37 Convertible', 'G37 Coupe', 'G37 Sedan', 'G5',\n",
       "        'G6', 'G8', 'G80', 'GL-Class', 'GLA-Class', 'GLC-Class',\n",
       "        'GLE-Class', 'GLE-Class Coupe', 'GLI', 'GLK-Class', 'GLS-Class',\n",
       "        'GS 200t', 'GS 300', 'GS 350', 'GS 400', 'GS 430', 'GS 450h',\n",
       "        'GS 460', 'GT', 'GT-R', 'GTI', 'GTO', 'GX 460', 'GX 470', 'Galant',\n",
       "        'Gallardo', 'Genesis', 'Genesis Coupe', 'Ghibli', 'Ghost',\n",
       "        'Ghost Series II', 'Golf', 'Golf Alltrack', 'Golf GTI', 'Golf R',\n",
       "        'Golf SportWagen', 'GranSport', 'GranTurismo',\n",
       "        'GranTurismo Convertible', 'Grand Am', 'Grand Caravan',\n",
       "        'Grand Prix', 'Grand Vitara', 'Grand Voyager', 'H3', 'H3T', 'HHR',\n",
       "        'HR-V', 'HS 250h', 'Highlander', 'Highlander Hybrid', 'Horizon',\n",
       "        'Huracan', 'I30', 'I35', 'ILX', 'ILX Hybrid', 'IS 200t', 'IS 250',\n",
       "        'IS 250 C', 'IS 300', 'IS 350', 'IS 350 C', 'IS F', 'Impala',\n",
       "        'Impala Limited', 'Imperial', 'Impreza', 'Impreza WRX', 'Insight',\n",
       "        'Integra', 'Intrepid', 'Intrigue', 'J30', 'JX', 'Jetta',\n",
       "        'Jetta GLI', 'Jetta Hybrid', 'Jetta SportWagen', 'Jimmy',\n",
       "        'Journey', 'Juke', 'Justy', 'K900', 'Kizashi', 'LFA', 'LHS', 'LR2',\n",
       "        'LR3', 'LR4', 'LS', 'LS 400', 'LS 430', 'LS 460', 'LS 600h L',\n",
       "        'LSS', 'LTD Crown Victoria', 'LX 450', 'LX 470', 'LX 570',\n",
       "        'LaCrosse', 'Lancer', 'Lancer Evolution', 'Lancer Sportback',\n",
       "        'Land Cruiser', 'Laser', 'Le Baron', 'Le Mans', 'LeSabre', 'Leaf',\n",
       "        'Legacy', 'Legend', 'Levante', 'Loyale', 'Lucerne', 'Lumina',\n",
       "        'Lumina Minivan', 'M', 'M-Class', 'M2', 'M3', 'M30', 'M35', 'M37',\n",
       "        'M4', 'M45', 'M5', 'M56', 'M6', 'M6 Gran Coupe', 'MDX', 'MKC',\n",
       "        'MKS', 'MKT', 'MKX', 'MKZ', 'MKZ Hybrid', 'MP4-12C', 'MPV', 'MR2',\n",
       "        'MR2 Spyder', 'MX-3', 'MX-5 Miata', 'MX-6', 'Macan', 'Magnum',\n",
       "        'Malibu', 'Malibu Classic', 'Malibu Hybrid', 'Malibu Limited',\n",
       "        'Malibu Maxx', 'Mark LT', 'Mark VII', 'Mark VIII', 'Matrix',\n",
       "        'Maxima', 'Maybach', 'Mazdaspeed 3', 'Mazdaspeed MX-5 Miata',\n",
       "        'Mazdaspeed Protege', 'Metris', 'Metro', 'Mighty Max Pickup',\n",
       "        'Millenia', 'Mirage', 'Mirage G4', 'Model S', 'Monaco', 'Montana',\n",
       "        'Montana SV6', 'Monte Carlo', 'Montero', 'Montero Sport',\n",
       "        'Mulsanne', 'Murano', 'Murano CrossCabriolet', 'Murcielago',\n",
       "        'Mustang', 'Mustang SVT Cobra', 'NSX', 'NV200', 'NX', 'NX 200t',\n",
       "        'NX 300h', 'Navajo', 'Navigator', 'Neon', 'New Beetle',\n",
       "        'New Yorker', 'Ninety-Eight', 'Nitro', 'Odyssey', 'Omni', 'Optima',\n",
       "        'Optima Hybrid', 'Outback', 'Outlander', 'Outlander Sport',\n",
       "        'PT Cruiser', 'Pacifica', 'Panamera', 'Park Avenue', 'Paseo',\n",
       "        'Passat', 'Passport', 'Pathfinder', 'Phaeton', 'Phantom',\n",
       "        'Phantom Coupe', 'Phantom Drophead Coupe', 'Pickup', 'Pilot',\n",
       "        'Precis', 'Prelude', 'Previa', 'Prius', 'Prius Prime', 'Prius c',\n",
       "        'Prius v', 'Prizm', 'Probe', 'Protege', 'Protege5', 'Prowler',\n",
       "        'Q3', 'Q40', 'Q45', 'Q5', 'Q50', 'Q60 Convertible', 'Q60 Coupe',\n",
       "        'Q7', 'Q70', 'QX', 'QX4', 'QX50', 'QX56', 'QX60', 'QX70', 'QX80',\n",
       "        'Quattroporte', 'Quest', 'R-Class', 'R32', 'R8', 'RAM 150',\n",
       "        'RAM 250', 'RAV4', 'RAV4 EV', 'RAV4 Hybrid', 'RC 200t', 'RC 300',\n",
       "        'RC 350', 'RDX', 'RL', 'RLX', 'RS 4', 'RS 5', 'RS 7', 'RSX',\n",
       "        'RX 300', 'RX 330', 'RX 350', 'RX 400h', 'RX 450h', 'RX-7', 'RX-8',\n",
       "        'Rabbit', 'Raider', 'Rainier', 'Rally Wagon', 'Ram 50 Pickup',\n",
       "        'Ram Cargo', 'Ram Pickup 1500', 'Ram Van', 'Ram Wagon',\n",
       "        'Ramcharger', 'Range Rover', 'Range Rover Evoque',\n",
       "        'Range Rover Sport', 'Ranger', 'Rapide', 'Rapide S', 'Reatta',\n",
       "        'Regal', 'Regency', 'Rendezvous', 'Reno', 'Reventon', 'Ridgeline',\n",
       "        'Rio', 'Riviera', 'Roadmaster', 'Rogue', 'Rogue Select', 'Rondo',\n",
       "        'Routan', 'S-10', 'S-10 Blazer', 'S-15', 'S-15 Jimmy', 'S-Class',\n",
       "        'S2000', 'S3', 'S4', 'S40', 'S5', 'S6', 'S60', 'S60 Cross Country',\n",
       "        'S7', 'S70', 'S8', 'S80', 'S90', 'SC 300', 'SC 400', 'SC 430',\n",
       "        'SL-Class', 'SLC-Class', 'SLK-Class', 'SLR McLaren', 'SLS AMG',\n",
       "        'SLS AMG GT', 'SLS AMG GT Final Edition', 'SLX', 'SQ5',\n",
       "        'SRT Viper', 'SRX', 'STS', 'STS-V', 'SVX', 'SX4', 'Safari',\n",
       "        'Safari Cargo', 'Samurai', 'Santa Fe', 'Santa Fe Sport', 'Savana',\n",
       "        'Savana Cargo', 'Scoupe', 'Sebring', 'Sedona', 'Sentra', 'Sephia',\n",
       "        'Sequoia', 'Seville', 'Shadow', 'Shelby GT350', 'Shelby GT500',\n",
       "        'Sidekick', 'Sienna', 'Sierra 1500', 'Sierra 1500 Classic',\n",
       "        'Sierra 1500 Hybrid', 'Sierra 1500HD', 'Sierra C3',\n",
       "        'Sierra Classic 1500', 'Sigma', 'Silhouette', 'Silver Seraph',\n",
       "        'Silverado 1500', 'Silverado 1500 Classic',\n",
       "        'Silverado 1500 Hybrid', 'Skylark', 'Solstice', 'Sonata',\n",
       "        'Sonata Hybrid', 'Sonic', 'Sonoma', 'Sorento', 'Soul', 'Soul EV',\n",
       "        'Spark', 'Spark EV', 'Spectra', 'Spirit', 'Sportage', 'Sportvan',\n",
       "        'Spyder', 'Stanza', 'Stealth', 'Stratus', 'Suburban', 'Sunbird',\n",
       "        'Sundance', 'Sunfire', 'Supra', 'Swift', 'Syclone', 'T100', 'TL',\n",
       "        'TLX', 'TSX', 'TSX Sport Wagon', 'TT', 'TTS', 'Tacoma', 'Tahoe',\n",
       "        'Tahoe Hybrid', 'Tahoe Limited/Z71', 'Taurus', 'Taurus X', 'Tempo',\n",
       "        'Tercel', 'Terrain', 'Terraza', 'Thunderbird', 'Tiburon', 'Tiguan',\n",
       "        'Titan', 'Toronado', 'Torrent', 'Touareg', 'Touareg 2', 'Town Car',\n",
       "        'Town and Country', 'Tracker', 'TrailBlazer', 'TrailBlazer EXT',\n",
       "        'Trans Sport', 'Transit Connect', 'Transit Wagon', 'Traverse',\n",
       "        'Trax', 'Tribeca', 'Tribute', 'Tribute Hybrid', 'Truck', 'Tucson',\n",
       "        'Tundra', 'Typhoon', 'Uplander', 'V12 Vanquish', 'V12 Vantage',\n",
       "        'V12 Vantage S', 'V40', 'V50', 'V60', 'V60 Cross Country', 'V70',\n",
       "        'V8 Vantage', 'Van', 'Vanagon', 'Vandura', 'Vanquish', 'Vanwagon',\n",
       "        'Veloster', 'Venture', 'Venza', 'Veracruz', 'Verano', 'Verona',\n",
       "        'Versa', 'Versa Note', 'Veyron 16.4', 'Vibe', 'Vigor', 'Viper',\n",
       "        'Virage', 'Vitara', 'Voyager', 'WRX', 'Windstar', 'Windstar Cargo',\n",
       "        'Wraith', 'X-90', 'X1', 'X3', 'X4', 'X5', 'X5 M', 'X6', 'X6 M',\n",
       "        'XC', 'XC60', 'XC70', 'XC90', 'XG300', 'XG350', 'XL-7', 'XL7',\n",
       "        'XLR', 'XLR-V', 'XT', 'XT5', 'XTS', 'XV Crosstrek', 'Xterra',\n",
       "        'Yaris', 'Yaris iA', 'Yukon', 'Yukon Denali', 'Yukon Hybrid',\n",
       "        'Yukon XL', 'Z3', 'Z4', 'Z4 M', 'Z8', 'ZDX', 'allroad',\n",
       "        'allroad quattro', 'e-Golf', 'i-MiEV', 'i3', 'iA', 'iQ', 'tC',\n",
       "        'xA', 'xB', 'xD'], dtype=object),\n",
       " array(['AUTOMATED_MANUAL', 'AUTOMATIC', 'DIRECT_DRIVE', 'MANUAL',\n",
       "        'UNKNOWN'], dtype=object),\n",
       " array(['2dr Hatchback', '2dr SUV', '4dr Hatchback', '4dr SUV',\n",
       "        'Cargo Minivan', 'Cargo Van', 'Convertible', 'Convertible SUV',\n",
       "        'Coupe', 'Crew Cab Pickup', 'Extended Cab Pickup',\n",
       "        'Passenger Minivan', 'Passenger Van', 'Regular Cab Pickup',\n",
       "        'Sedan', 'Wagon'], dtype=object)]"
      ]
     },
     "execution_count": 30,
     "metadata": {},
     "output_type": "execute_result"
    }
   ],
   "source": [
    "enc.categories_"
   ]
  },
  {
   "cell_type": "code",
   "execution_count": 31,
   "id": "d9692f25",
   "metadata": {},
   "outputs": [],
   "source": [
    "df_train_transform = enc.transform(df_train[categorical]).toarray()\n",
    "df_train_numerical = df_train[numerical].to_numpy()\n",
    "X_train_enc = np.concatenate((df_train_transform, df_train_numerical), axis=1) "
   ]
  },
  {
   "cell_type": "code",
   "execution_count": 32,
   "id": "6d41de65",
   "metadata": {},
   "outputs": [
    {
     "data": {
      "text/plain": [
       "(7148, 943)"
      ]
     },
     "execution_count": 32,
     "metadata": {},
     "output_type": "execute_result"
    }
   ],
   "source": [
    "X_train_enc.shape"
   ]
  },
  {
   "cell_type": "code",
   "execution_count": 33,
   "id": "0affc7a5",
   "metadata": {},
   "outputs": [],
   "source": [
    "model_enc = LogisticRegression(solver='liblinear', C=10, max_iter=1000, random_state=42)"
   ]
  },
  {
   "cell_type": "code",
   "execution_count": 34,
   "id": "d45aa65c",
   "metadata": {},
   "outputs": [
    {
     "data": {
      "text/plain": [
       "LogisticRegression(C=10, max_iter=1000, random_state=42, solver='liblinear')"
      ]
     },
     "execution_count": 34,
     "metadata": {},
     "output_type": "execute_result"
    }
   ],
   "source": [
    "model_enc.fit(X_train_enc, y_train)"
   ]
  },
  {
   "cell_type": "code",
   "execution_count": 35,
   "id": "fae7b776",
   "metadata": {},
   "outputs": [],
   "source": [
    "df_val_transform = enc.transform(df_val[categorical]).toarray()\n",
    "df_val_numerical = df_val[numerical].to_numpy()\n",
    "X_val_enc = np.concatenate((df_val_transform, df_val_numerical), axis=1) "
   ]
  },
  {
   "cell_type": "code",
   "execution_count": 36,
   "id": "092d89d6",
   "metadata": {},
   "outputs": [
    {
     "data": {
      "text/plain": [
       "array([[9.99044957e-01, 9.55043438e-04],\n",
       "       [3.70134688e-03, 9.96298653e-01],\n",
       "       [9.99829493e-01, 1.70506711e-04],\n",
       "       ...,\n",
       "       [9.99708257e-01, 2.91743246e-04],\n",
       "       [9.88864776e-03, 9.90111352e-01],\n",
       "       [1.27041760e-02, 9.87295824e-01]])"
      ]
     },
     "execution_count": 36,
     "metadata": {},
     "output_type": "execute_result"
    }
   ],
   "source": [
    "model_enc.predict_proba(X_val_enc)"
   ]
  },
  {
   "cell_type": "code",
   "execution_count": 37,
   "id": "486be41a",
   "metadata": {},
   "outputs": [],
   "source": [
    "y_pred_enc = model_enc.predict_proba(X_val_enc)[:, 1]"
   ]
  },
  {
   "cell_type": "code",
   "execution_count": 38,
   "id": "b2941b81",
   "metadata": {},
   "outputs": [
    {
     "data": {
      "text/plain": [
       "array([9.55043438e-04, 9.96298653e-01, 1.70506711e-04, ...,\n",
       "       2.91743246e-04, 9.90111352e-01, 9.87295824e-01])"
      ]
     },
     "execution_count": 38,
     "metadata": {},
     "output_type": "execute_result"
    }
   ],
   "source": [
    "y_pred_enc"
   ]
  },
  {
   "cell_type": "code",
   "execution_count": 39,
   "id": "771abca1",
   "metadata": {},
   "outputs": [],
   "source": [
    "price_enc = y_pred_enc > 0.5"
   ]
  },
  {
   "cell_type": "code",
   "execution_count": 40,
   "id": "98165d4a",
   "metadata": {},
   "outputs": [],
   "source": [
    "accuracy = round((y_val == price_enc).mean(), 2)"
   ]
  },
  {
   "cell_type": "code",
   "execution_count": 41,
   "id": "8b428543",
   "metadata": {},
   "outputs": [
    {
     "data": {
      "text/plain": [
       "0.94"
      ]
     },
     "execution_count": 41,
     "metadata": {},
     "output_type": "execute_result"
    }
   ],
   "source": [
    "accuracy"
   ]
  },
  {
   "cell_type": "markdown",
   "id": "b228bfd9",
   "metadata": {},
   "source": [
    "Without onehotencoder"
   ]
  },
  {
   "cell_type": "code",
   "execution_count": 42,
   "id": "687790cf",
   "metadata": {},
   "outputs": [],
   "source": [
    "train_dict = df_train.to_dict(orient='records')"
   ]
  },
  {
   "cell_type": "code",
   "execution_count": 43,
   "id": "ecde6702",
   "metadata": {},
   "outputs": [
    {
     "data": {
      "text/plain": [
       "{'make': 'Mitsubishi',\n",
       " 'model': 'Endeavor',\n",
       " 'year': 2011,\n",
       " 'engine_hp': 225.0,\n",
       " 'engine_cylinders': 6.0,\n",
       " 'transmission_type': 'AUTOMATIC',\n",
       " 'vehicle_style': '4dr SUV',\n",
       " 'highway_mpg': 19,\n",
       " 'city_mpg': 15}"
      ]
     },
     "execution_count": 43,
     "metadata": {},
     "output_type": "execute_result"
    }
   ],
   "source": [
    "train_dict[0]"
   ]
  },
  {
   "cell_type": "code",
   "execution_count": 44,
   "id": "afc9d82e",
   "metadata": {},
   "outputs": [
    {
     "data": {
      "text/plain": [
       "DictVectorizer(sparse=False)"
      ]
     },
     "execution_count": 44,
     "metadata": {},
     "output_type": "execute_result"
    }
   ],
   "source": [
    "dv = DictVectorizer(sparse=False)\n",
    "dv.fit(train_dict)"
   ]
  },
  {
   "cell_type": "code",
   "execution_count": 45,
   "id": "d711d8d8",
   "metadata": {},
   "outputs": [],
   "source": [
    "X_train = dv.transform(train_dict)"
   ]
  },
  {
   "cell_type": "code",
   "execution_count": 46,
   "id": "c63a5489",
   "metadata": {},
   "outputs": [
    {
     "data": {
      "text/plain": [
       "(7148, 943)"
      ]
     },
     "execution_count": 46,
     "metadata": {},
     "output_type": "execute_result"
    }
   ],
   "source": [
    "X_train.shape"
   ]
  },
  {
   "cell_type": "code",
   "execution_count": 47,
   "id": "c7a08b86",
   "metadata": {},
   "outputs": [],
   "source": [
    "model = LogisticRegression(solver='liblinear', C=10, max_iter=1000, random_state=42)"
   ]
  },
  {
   "cell_type": "code",
   "execution_count": 48,
   "id": "efd33c1f",
   "metadata": {},
   "outputs": [
    {
     "data": {
      "text/plain": [
       "LogisticRegression(C=10, max_iter=1000, random_state=42, solver='liblinear')"
      ]
     },
     "execution_count": 48,
     "metadata": {},
     "output_type": "execute_result"
    }
   ],
   "source": [
    "model.fit(X_train, y_train)"
   ]
  },
  {
   "cell_type": "code",
   "execution_count": 49,
   "id": "df8934c6",
   "metadata": {},
   "outputs": [],
   "source": [
    "val_dict = df_val.to_dict(orient='records')\n",
    "X_val = dv.transform(val_dict)"
   ]
  },
  {
   "cell_type": "code",
   "execution_count": 50,
   "id": "83abcad5",
   "metadata": {},
   "outputs": [
    {
     "data": {
      "text/plain": [
       "array([[9.99692966e-01, 3.07033780e-04],\n",
       "       [2.27974745e-03, 9.97720253e-01],\n",
       "       [9.99930206e-01, 6.97938861e-05],\n",
       "       ...,\n",
       "       [9.99898957e-01, 1.01043039e-04],\n",
       "       [8.98629570e-03, 9.91013704e-01],\n",
       "       [9.08719100e-03, 9.90912809e-01]])"
      ]
     },
     "execution_count": 50,
     "metadata": {},
     "output_type": "execute_result"
    }
   ],
   "source": [
    "model.predict_proba(X_val)"
   ]
  },
  {
   "cell_type": "code",
   "execution_count": 51,
   "id": "8becfb9d",
   "metadata": {},
   "outputs": [],
   "source": [
    "y_pred = model.predict_proba(X_val)[:, 1]"
   ]
  },
  {
   "cell_type": "code",
   "execution_count": 52,
   "id": "a946dcc7",
   "metadata": {},
   "outputs": [
    {
     "data": {
      "text/plain": [
       "array([3.07033780e-04, 9.97720253e-01, 6.97938861e-05, ...,\n",
       "       1.01043039e-04, 9.91013704e-01, 9.90912809e-01])"
      ]
     },
     "execution_count": 52,
     "metadata": {},
     "output_type": "execute_result"
    }
   ],
   "source": [
    "y_pred"
   ]
  },
  {
   "cell_type": "code",
   "execution_count": 53,
   "id": "c0cea5b4",
   "metadata": {},
   "outputs": [],
   "source": [
    "price = y_pred > 0.5"
   ]
  },
  {
   "cell_type": "code",
   "execution_count": 54,
   "id": "849cecab",
   "metadata": {},
   "outputs": [
    {
     "data": {
      "text/plain": [
       "0.95"
      ]
     },
     "execution_count": 54,
     "metadata": {},
     "output_type": "execute_result"
    }
   ],
   "source": [
    "round((y_val == price).mean(), 2)"
   ]
  },
  {
   "cell_type": "markdown",
   "id": "aa2620ad",
   "metadata": {},
   "source": [
    "Question 5"
   ]
  },
  {
   "cell_type": "code",
   "execution_count": 55,
   "id": "d7bccdc3",
   "metadata": {},
   "outputs": [
    {
     "name": "stdout",
     "output_type": "stream",
     "text": [
      "drop make, difference -0.010000000000000009\n",
      "drop model, difference 0.019999999999999907\n",
      "drop year, difference -0.010000000000000009\n",
      "drop engine_hp, difference 0.019999999999999907\n",
      "drop engine_cylinders, difference -0.010000000000000009\n",
      "drop transmission_type, difference 0.0\n",
      "drop vehicle_style, difference 0.009999999999999898\n",
      "drop highway_mpg, difference 0.0\n",
      "drop city_mpg, difference 0.0\n"
     ]
    }
   ],
   "source": [
    "for column in list(df.columns):\n",
    "    numerical_d = [x for x in numerical if column != x]\n",
    "    categorical_d = [x for x in categorical if column != x]\n",
    "    \n",
    "    enc = OneHotEncoder(handle_unknown='ignore')\n",
    "    enc.fit(df_train[categorical_d])\n",
    "    \n",
    "    df_train_transform = enc.transform(df_train[categorical_d]).toarray()\n",
    "    df_train_numerical = df_train[numerical_d].to_numpy()\n",
    "    X_train_enc = np.concatenate((df_train_transform, df_train_numerical), axis=1) \n",
    "    \n",
    "    model_enc = LogisticRegression(solver='liblinear', C=10, max_iter=1000, random_state=42)\n",
    "    \n",
    "    model_enc.fit(X_train_enc, y_train)\n",
    "    \n",
    "    df_val_transform = enc.transform(df_val[categorical_d]).toarray()\n",
    "    df_val_numerical = df_val[numerical_d].to_numpy()\n",
    "    X_val_enc = np.concatenate((df_val_transform, df_val_numerical), axis=1) \n",
    "    \n",
    "    y_pred_enc = model_enc.predict_proba(X_val_enc)[:, 1]\n",
    "    \n",
    "    price_enc = y_pred_enc > 0.5\n",
    "    accuracy_drop = round((y_val == price_enc).mean(), 2)\n",
    "    \n",
    "    print(f'drop {column}, difference {accuracy - accuracy_drop}')"
   ]
  },
  {
   "cell_type": "markdown",
   "id": "94dc1749",
   "metadata": {},
   "source": [
    "Question 6"
   ]
  },
  {
   "cell_type": "code",
   "execution_count": 56,
   "id": "e4c12da2",
   "metadata": {},
   "outputs": [],
   "source": [
    "enc = OneHotEncoder(handle_unknown='ignore')\n",
    "enc.fit(df_train_p[categorical])\n",
    "df_train_transform_p = enc.transform(df_train_p[categorical]).toarray()\n",
    "df_train_numerical_p = df_train_p[numerical].to_numpy()\n",
    "X_train_enc_p = np.concatenate((df_train_transform_p, df_train_numerical_p), axis=1) "
   ]
  },
  {
   "cell_type": "code",
   "execution_count": 57,
   "id": "3b01c523",
   "metadata": {},
   "outputs": [],
   "source": [
    "df_val_transform_p = enc.transform(df_val_p[categorical]).toarray()\n",
    "df_val_numerical_p = df_val_p[numerical].to_numpy()\n",
    "X_val_enc_p = np.concatenate((df_val_transform_p, df_val_numerical_p), axis=1)"
   ]
  },
  {
   "cell_type": "code",
   "execution_count": 59,
   "id": "7b5eacb3",
   "metadata": {},
   "outputs": [
    {
     "name": "stdout",
     "output_type": "stream",
     "text": [
      "0.244\n",
      "0.244\n",
      "0.244\n",
      "0.244\n",
      "0.244\n"
     ]
    }
   ],
   "source": [
    "for i in [0, 0.01, 0.1, 1, 10]:\n",
    "    model = Ridge(solver='sag', random_state=42, alpha=i, max_iter=1000)\n",
    "    model.fit(X_train_enc_p, y_train_p)\n",
    "     \n",
    "    \n",
    "    y_pred_enc_p = model.predict(X_val_enc_p)\n",
    "    \n",
    "    #price_enc_p = y_pred_enc_p > 0.5\n",
    "    #accuracy_p = round((y_val_p == price_enc_p).mean(), 2)\n",
    "    print(round(mean_squared_error(y_val_p, y_pred_enc_p),3))"
   ]
  },
  {
   "cell_type": "code",
   "execution_count": null,
   "id": "562e89f3",
   "metadata": {},
   "outputs": [],
   "source": []
  }
 ],
 "metadata": {
  "kernelspec": {
   "display_name": "Python 3 (ipykernel)",
   "language": "python",
   "name": "python3"
  },
  "language_info": {
   "codemirror_mode": {
    "name": "ipython",
    "version": 3
   },
   "file_extension": ".py",
   "mimetype": "text/x-python",
   "name": "python",
   "nbconvert_exporter": "python",
   "pygments_lexer": "ipython3",
   "version": "3.9.13"
  }
 },
 "nbformat": 4,
 "nbformat_minor": 5
}
