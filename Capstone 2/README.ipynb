{
 "cells": [
  {
   "cell_type": "markdown",
   "id": "4d073516",
   "metadata": {},
   "source": [
    "The dataset for this project downloaded from https://www.kaggle.com/datasets/loveall/appliances-energy-prediction"
   ]
  },
  {
   "cell_type": "markdown",
   "id": "c0794c4c",
   "metadata": {},
   "source": [
    "The dataset contains information about house temprature and humidity measurment in differnet areas\n",
    "There are 8 main location in the building:\n",
    "    - kitchen\n",
    "    - living room\n",
    "    - laundry room\n",
    "    - office room\n",
    "    - bathroom\n",
    "    - ironing room\n",
    "    - teenager room\n",
    "    - parents room\n",
    "And 2 locations outside the building"
   ]
  },
  {
   "cell_type": "markdown",
   "id": "3164b2a2",
   "metadata": {},
   "source": [
    "EDA shows features correlation and different plots about tempreature and energy use"
   ]
  },
  {
   "cell_type": "code",
   "execution_count": null,
   "id": "5ad5baef",
   "metadata": {},
   "outputs": [],
   "source": [
    "With this information we could create a model for applience energy use prediction in the building"
   ]
  },
  {
   "cell_type": "markdown",
   "id": "4678451d",
   "metadata": {},
   "source": [
    "I've tried 2 differnet models with parametr tuning:\n",
    "      \n",
    "      - dicision tree regression\n",
    "      - xgboost regression\n",
    "      \n",
    "With parametr tuning xgboost showed more precise momdel for applience energy use prediction\n",
    "\n",
    "by launching predict.py you can download test csv file and get energy use for this measurments"
   ]
  }
 ],
 "metadata": {
  "kernelspec": {
   "display_name": "Python 3 (ipykernel)",
   "language": "python",
   "name": "python3"
  },
  "language_info": {
   "codemirror_mode": {
    "name": "ipython",
    "version": 3
   },
   "file_extension": ".py",
   "mimetype": "text/x-python",
   "name": "python",
   "nbconvert_exporter": "python",
   "pygments_lexer": "ipython3",
   "version": "3.9.13"
  }
 },
 "nbformat": 4,
 "nbformat_minor": 5
}
